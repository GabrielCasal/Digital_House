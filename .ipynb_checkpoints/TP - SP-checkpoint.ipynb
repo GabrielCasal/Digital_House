{
 "cells": [
  {
   "cell_type": "code",
   "execution_count": null,
   "metadata": {},
   "outputs": [],
   "source": [
    "!pip install geopandas\n",
    "!pip install descartes\n",
    "\n",
    "import pandas as pd\n",
    "import geopandas\n",
    "import matplotlib.pyplot as plt\n",
    "import shapely\n",
    "import shapely.wkt\n",
    "from shapely.geometry import Point"
   ]
  },
  {
   "cell_type": "code",
   "execution_count": null,
   "metadata": {},
   "outputs": [],
   "source": [
    "data = pd.read_csv(\"properatti.csv\")\n",
    "\n",
    "d = { 'state_name': data.state_name, 'lat': data.lat, 'lon': data.lon, 'price': data.price_aprox_usd }\n",
    "\n",
    "newdf = pd.DataFrame(d)\n",
    "newdf = newdf.dropna('index')\n",
    "newdf_caba = newdf[newdf['state_name'] == \"Capital Federal\"]\n",
    "\n",
    "newdf_caba"
   ]
  },
  {
   "cell_type": "code",
   "execution_count": null,
   "metadata": {},
   "outputs": [],
   "source": [
    "crs = {'init': 'epsg:4326'} # Esta es la proyección más común\n",
    "\n",
    "newdf_caba['coordinates'] = list(zip(newdf_caba.lon, newdf_caba.lat))\n",
    "newdf_caba['coordinates'] = newdf_caba['coordinates'].apply(Point) \n",
    "gdf_caba = geopandas.GeoDataFrame(data=newdf_caba, geometry=\"coordinates\", crs= crs)"
   ]
  }
 ],
 "metadata": {
  "kernelspec": {
   "display_name": "Python 3",
   "language": "python",
   "name": "python3"
  },
  "language_info": {
   "codemirror_mode": {
    "name": "ipython",
    "version": 3
   },
   "file_extension": ".py",
   "mimetype": "text/x-python",
   "name": "python",
   "nbconvert_exporter": "python",
   "pygments_lexer": "ipython3",
   "version": "3.6.4"
  }
 },
 "nbformat": 4,
 "nbformat_minor": 2
}
