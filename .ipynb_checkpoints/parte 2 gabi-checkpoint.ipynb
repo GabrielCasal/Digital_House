{
 "cells": [
  {
   "cell_type": "code",
   "execution_count": 1,
   "metadata": {},
   "outputs": [],
   "source": [
    "# Importar librerias\n",
    "import numpy as np\n",
    "import pandas as pd\n",
    "import re\n",
    "% matplotlib inline\n",
    "import matplotlib\n",
    "import matplotlib.pyplot as plt\n",
    "from sklearn import linear_model\n",
    "from scipy import stats\n",
    "import seaborn as sns\n",
    "from sklearn.model_selection import train_test_split, KFold, cross_val_score\n",
    "from sklearn.linear_model import LinearRegression, Lasso, LassoCV, Ridge, RidgeCV\n",
    "from sklearn.preprocessing import PolynomialFeatures, StandardScaler\n",
    "from sklearn.metrics import mean_squared_error, r2_score"
   ]
  },
  {
   "cell_type": "code",
   "execution_count": 2,
   "metadata": {},
   "outputs": [],
   "source": [
    "data = pd.read_csv(\"./DATA/properattilimpio.csv\")"
   ]
  },
  {
   "cell_type": "code",
   "execution_count": 3,
   "metadata": {},
   "outputs": [
    {
     "data": {
      "text/plain": [
       "3112"
      ]
     },
     "execution_count": 3,
     "metadata": {},
     "output_type": "execute_result"
    }
   ],
   "source": [
    "filtro = data['BARRIO'].isin(['Belgrano'])\n",
    "data = data[filtro]\n",
    "data = data[(data['TIPO_PROPIEDAD'] == 'apartment')]\n",
    "3112# registros"
   ]
  },
  {
   "cell_type": "code",
   "execution_count": 4,
   "metadata": {},
   "outputs": [],
   "source": [
    "data_aux = data[[ 'surface_total_in_m2','Ambientes', 'pileta', 'amenities',\n",
    "       'gimnasio', 'laundry', 'sum', 'solarium', 'parrilla', 'a estrenar',\n",
    "       'subte', 'cochera']]"
   ]
  },
  {
   "cell_type": "code",
   "execution_count": 5,
   "metadata": {},
   "outputs": [
    {
     "name": "stdout",
     "output_type": "stream",
     "text": [
      "(982, 12) (982,)\n",
      "(421, 12) (421,)\n"
     ]
    }
   ],
   "source": [
    "X_train, X_test, y_train, y_test = train_test_split(data_aux, data.price_usd_per_m2, test_size=0.3, random_state=53)\n",
    "print(X_train.shape, y_train.shape)\n",
    "print(X_test.shape, y_test.shape)"
   ]
  },
  {
   "cell_type": "code",
   "execution_count": 6,
   "metadata": {},
   "outputs": [
    {
     "name": "stdout",
     "output_type": "stream",
     "text": [
      "Regresión Mínimos Cuadrados Ordinarios\n",
      "Coeficientes: [  -0.67211774    8.4505086   382.35011267  268.32564247  288.95781494\n",
      "  387.42963888 -416.47021444 -275.98010792 -123.12958404  418.94618725\n",
      " -307.33807186  241.31143342]\n",
      "Residual sum of squares: 400726.80\n",
      "Varianza explicada: 0.26\n",
      "\n",
      "Regresión Ridge\n",
      "Coeficientes: [  -0.66201051    8.37126187  373.50611475  265.32737699  287.88753037\n",
      "  339.66627711 -374.66538343 -239.50684217 -119.42733258  403.92026823\n",
      " -300.39437687  237.01645675]\n",
      "Residual sum of squares: 398986.66\n",
      "Varianza explicada: 0.26\n",
      "\n",
      "Regresión Lasso\n",
      "Coeficientes: [  -0.65603247    7.87700902  373.19416405  261.50636083  286.4102013\n",
      "  329.03019623 -368.76340457 -229.34857984 -113.34529651  402.63282386\n",
      " -298.45929994  234.34855868]\n",
      "Residual sum of squares: 398887.00\n",
      "Varianza explicada: 0.26\n",
      "\n"
     ]
    }
   ],
   "source": [
    "\n",
    "regr = linear_model.LinearRegression()\n",
    "regr2=linear_model.LassoCV(cv=20).fit(X_train, y_train)\n",
    "regr3=linear_model.RidgeCV(alphas=[0.1,0.2,0.5,0.7,1.0,1.5,3.0,5.0,7.0,10.0])\n",
    "#np.size(y_train = Boston.target[:405])\n",
    "regr.fit(X_train, y_train)\n",
    "regr3.fit(X_train,y_train)\n",
    "\n",
    "print ('Regresión Mínimos Cuadrados Ordinarios')\n",
    "#Coeficiente\n",
    "print('Coeficientes:',regr.coef_)\n",
    "# MSE \n",
    "print(\"Residual sum of squares: %.2f\"\n",
    " % np.mean((regr.predict(X_test) - y_test) ** 2))\n",
    "# Varianza explicada\n",
    "print('Varianza explicada: %.2f\\n' % regr.score(X_train, y_train))\n",
    "\n",
    "\n",
    "print ('Regresión Ridge')\n",
    "# Coeficientes\n",
    "print('Coeficientes:', regr3.coef_)\n",
    "# MSE\n",
    "print(\"Residual sum of squares: %.2f\"\n",
    " % np.mean((regr3.predict(X_test) - y_test) ** 2))\n",
    "# Varianza Explicada\n",
    "print('Varianza explicada: %.2f\\n' % regr3.score(X_train, y_train))\n",
    "\n",
    "\n",
    "print ('Regresión Lasso' )\n",
    "# Coeficiente\n",
    "print ('Coeficientes:', regr2.coef_)\n",
    "# MSE\n",
    "print(\"Residual sum of squares: %.2f\"\n",
    " % np.mean((regr2.predict(X_test) - y_test) ** 2))\n",
    "# Varianza Explicada\n",
    "print('Varianza explicada: %.2f\\n' % regr2.score(X_train, y_train))"
   ]
  },
  {
   "cell_type": "code",
   "execution_count": null,
   "metadata": {},
   "outputs": [],
   "source": []
  }
 ],
 "metadata": {
  "kernelspec": {
   "display_name": "Python 3",
   "language": "python",
   "name": "python3"
  },
  "language_info": {
   "codemirror_mode": {
    "name": "ipython",
    "version": 3
   },
   "file_extension": ".py",
   "mimetype": "text/x-python",
   "name": "python",
   "nbconvert_exporter": "python",
   "pygments_lexer": "ipython3",
   "version": "3.6.5"
  }
 },
 "nbformat": 4,
 "nbformat_minor": 2
}
