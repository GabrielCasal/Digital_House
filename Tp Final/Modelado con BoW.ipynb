{
 "cells": [
  {
   "cell_type": "markdown",
   "metadata": {},
   "source": [
    "# Carga y Limpieza de Datos"
   ]
  },
  {
   "cell_type": "code",
   "execution_count": 1,
   "metadata": {},
   "outputs": [],
   "source": [
    "# Importo paquetes\n",
    "\n",
    "import numpy as np\n",
    "import pandas as pd\n",
    "import seaborn as sn\n",
    "import matplotlib.pyplot as plt\n",
    "%matplotlib inline\n",
    "\n",
    "from scipy import sparse"
   ]
  },
  {
   "cell_type": "code",
   "execution_count": 2,
   "metadata": {},
   "outputs": [],
   "source": [
    "X_train = sparse.load_npz(\"./Data/X_train_BoW.npz\")\n",
    "X_test = sparse.load_npz(\"./Data/X_test_BoW.npz\")\n",
    "y_train = pd.read_csv(\"./Data/y_train.csv\", header=None)\n",
    "y_test = pd.read_csv(\"./Data/y_test.csv\", header=None)"
   ]
  },
  {
   "cell_type": "code",
   "execution_count": 5,
   "metadata": {},
   "outputs": [],
   "source": [
    "y_train = y_train[0]\n",
    "y_test = y_test[0]"
   ]
  },
  {
   "cell_type": "code",
   "execution_count": 6,
   "metadata": {},
   "outputs": [
    {
     "data": {
      "text/plain": [
       "<1424931x34378 sparse matrix of type '<class 'numpy.int64'>'\n",
       "\twith 5064539 stored elements in Compressed Sparse Row format>"
      ]
     },
     "execution_count": 6,
     "metadata": {},
     "output_type": "execute_result"
    }
   ],
   "source": [
    "X_train"
   ]
  },
  {
   "cell_type": "markdown",
   "metadata": {},
   "source": [
    "# Modelado"
   ]
  },
  {
   "cell_type": "code",
   "execution_count": 7,
   "metadata": {},
   "outputs": [],
   "source": [
    "from sklearn.naive_bayes import BernoulliNB\n",
    "from sklearn.linear_model import LogisticRegression\n",
    "from sklearn.model_selection import cross_val_score, GridSearchCV, RandomizedSearchCV\n",
    "from sklearn.tree import DecisionTreeClassifier\n",
    "from sklearn.ensemble import RandomForestClassifier, ExtraTreesClassifier, BaggingClassifier, AdaBoostClassifier\n",
    "from sklearn.metrics import confusion_matrix, recall_score, accuracy_score, precision_score, roc_curve, roc_auc_score, auc\n",
    "from xgboost.sklearn import XGBClassifier\n",
    "import lightgbm as lgb\n",
    "import scipy.stats as st\n",
    "from sklearn.externals import joblib"
   ]
  },
  {
   "cell_type": "markdown",
   "metadata": {},
   "source": [
    "## 1. Naive Bayes + Regresión Logística"
   ]
  },
  {
   "cell_type": "code",
   "execution_count": 8,
   "metadata": {},
   "outputs": [],
   "source": [
    "models = [BernoulliNB(), LogisticRegression()]"
   ]
  },
  {
   "cell_type": "code",
   "execution_count": 9,
   "metadata": {},
   "outputs": [],
   "source": [
    "params = [{},\n",
    "          {'C': np.random.normal(1, 0.2, 10).astype(float) }]"
   ]
  },
  {
   "cell_type": "code",
   "execution_count": 10,
   "metadata": {},
   "outputs": [
    {
     "name": "stdout",
     "output_type": "stream",
     "text": [
      "RandomizedSearchCV(cv=3, error_score='raise-deprecating',\n",
      "          estimator=BernoulliNB(alpha=1.0, binarize=0.0, class_prior=None, fit_prior=True),\n",
      "          fit_params=None, iid='warn', n_iter=10, n_jobs=-1,\n",
      "          param_distributions={}, pre_dispatch='2*n_jobs',\n",
      "          random_state=None, refit=True, return_train_score='warn',\n",
      "          scoring='roc_auc', verbose=10)\n",
      "Fitting 3 folds for each of 1 candidates, totalling 3 fits\n"
     ]
    },
    {
     "name": "stderr",
     "output_type": "stream",
     "text": [
      "C:\\Users\\juan\\Anaconda3\\lib\\site-packages\\sklearn\\model_selection\\_search.py:271: UserWarning: The total space of parameters 1 is smaller than n_iter=10. Running 1 iterations. For exhaustive searches, use GridSearchCV.\n",
      "  % (grid_size, self.n_iter, grid_size), UserWarning)\n",
      "[Parallel(n_jobs=-1)]: Using backend LokyBackend with 8 concurrent workers.\n",
      "[Parallel(n_jobs=-1)]: Done   3 out of   3 | elapsed:    3.8s remaining:    0.0s\n",
      "[Parallel(n_jobs=-1)]: Done   3 out of   3 | elapsed:    3.8s finished\n"
     ]
    },
    {
     "name": "stdout",
     "output_type": "stream",
     "text": [
      "RandomizedSearchCV(cv=3, error_score='raise-deprecating',\n",
      "          estimator=LogisticRegression(C=1.0, class_weight=None, dual=False, fit_intercept=True,\n",
      "          intercept_scaling=1, max_iter=100, multi_class='warn',\n",
      "          n_jobs=None, penalty='l2', random_state=None, solver='warn',\n",
      "          tol=0.0001, verbose=0, warm_start=False),\n",
      "          fit_params=None, iid='warn', n_iter=10, n_jobs=-1,\n",
      "          param_distributions={'C': array([0.59942, 1.09725, 1.0801 , 0.73021, 1.05943, 0.91262, 0.80767,\n",
      "       0.68839, 0.9832 , 0.97964])},\n",
      "          pre_dispatch='2*n_jobs', random_state=None, refit=True,\n",
      "          return_train_score='warn', scoring='roc_auc', verbose=10)\n",
      "Fitting 3 folds for each of 10 candidates, totalling 30 fits\n"
     ]
    },
    {
     "name": "stderr",
     "output_type": "stream",
     "text": [
      "[Parallel(n_jobs=-1)]: Using backend LokyBackend with 8 concurrent workers.\n",
      "[Parallel(n_jobs=-1)]: Done   2 tasks      | elapsed:  1.2min\n",
      "[Parallel(n_jobs=-1)]: Done   9 tasks      | elapsed:  2.3min\n",
      "[Parallel(n_jobs=-1)]: Done  19 out of  30 | elapsed:  4.1min remaining:  2.4min\n",
      "[Parallel(n_jobs=-1)]: Done  23 out of  30 | elapsed:  4.7min remaining:  1.4min\n",
      "[Parallel(n_jobs=-1)]: Done  27 out of  30 | elapsed:  5.4min remaining:   35.8s\n",
      "[Parallel(n_jobs=-1)]: Done  30 out of  30 | elapsed:  5.6min finished\n",
      "C:\\Users\\juan\\Anaconda3\\lib\\site-packages\\sklearn\\linear_model\\logistic.py:432: FutureWarning: Default solver will be changed to 'lbfgs' in 0.22. Specify a solver to silence this warning.\n",
      "  FutureWarning)\n",
      "C:\\Users\\juan\\Anaconda3\\lib\\site-packages\\sklearn\\svm\\base.py:922: ConvergenceWarning: Liblinear failed to converge, increase the number of iterations.\n",
      "  \"the number of iterations.\", ConvergenceWarning)\n"
     ]
    }
   ],
   "source": [
    "grids = []\n",
    "i = 0\n",
    "for i in range(len(models)):\n",
    "    gs = RandomizedSearchCV(models[i], params[i], n_iter = 10, scoring='roc_auc', verbose= 10, n_jobs=-1, cv=3)\n",
    "    print (gs)\n",
    "    fit = gs.fit(X_train, y_train)\n",
    "    grids.append(fit)"
   ]
  },
  {
   "cell_type": "code",
   "execution_count": 11,
   "metadata": {},
   "outputs": [
    {
     "name": "stdout",
     "output_type": "stream",
     "text": [
      "Mejor Modelo:  BernoulliNB(alpha=1.0, binarize=0.0, class_prior=None, fit_prior=True)\n",
      "AUC:  0.8452680369837403\n",
      "Matriz de Confusión:\n",
      " [[588078  13432]\n",
      " [ 15874   3989]]\n",
      "Accuracy:  0.952836701948749\n",
      "Recall:  0.20082565574183153\n",
      "Precision:  0.22897652258768153 \n",
      "\n",
      "Mejor Modelo:  LogisticRegression(C=1.080103425925837, class_weight=None, dual=False,\n",
      "          fit_intercept=True, intercept_scaling=1, max_iter=100,\n",
      "          multi_class='warn', n_jobs=None, penalty='l2', random_state=None,\n",
      "          solver='warn', tol=0.0001, verbose=0, warm_start=False)\n",
      "AUC:  0.8602521755386852\n",
      "Matriz de Confusión:\n",
      " [[600604    906]\n",
      " [ 18749   1114]]\n",
      "Accuracy:  0.9683684357060895\n",
      "Recall:  0.05608417660977697\n",
      "Precision:  0.5514851485148515 \n",
      "\n"
     ]
    }
   ],
   "source": [
    "y_probs = []\n",
    "for i in grids:\n",
    "    print (\"Mejor Modelo: \",i.best_estimator_)\n",
    "    print (\"AUC: \",i.best_score_)\n",
    "    y_pred = i.predict(X_test)\n",
    "    print (\"Matriz de Confusión:\\n\",confusion_matrix(y_test, y_pred))\n",
    "    print (\"Accuracy: \",accuracy_score(y_test, y_pred))\n",
    "    print (\"Recall: \",recall_score(y_test, y_pred))\n",
    "    print (\"Precision: \",precision_score(y_test, y_pred),\"\\n\")\n",
    "    y_aux = i.predict_proba(X_test)\n",
    "    y_probs.append(y_aux[:,1])"
   ]
  },
  {
   "cell_type": "code",
   "execution_count": 12,
   "metadata": {},
   "outputs": [
    {
     "data": {
      "text/plain": [
       "['./Modelos/BoW/BoW_LR.sav']"
      ]
     },
     "execution_count": 12,
     "metadata": {},
     "output_type": "execute_result"
    }
   ],
   "source": [
    "joblib.dump(grids[0], './Modelos/BoW/BoW_NB.sav')\n",
    "joblib.dump(grids[1], './Modelos/BoW/BoW_LR.sav')"
   ]
  },
  {
   "cell_type": "code",
   "execution_count": 13,
   "metadata": {},
   "outputs": [
    {
     "data": {
      "image/png": "[encoded data removed]",
      "text/plain": [
       "<Figure size 432x288 with 1 Axes>"
      ]
     },
     "metadata": {},
     "output_type": "display_data"
    }
   ],
   "source": [
    "fpr_log,tpr_log,thr_log = roc_curve(y_test, y_probs[0])\n",
    "fpr_nb,tpr_nb,thr_nb = roc_curve(y_test, y_probs[1])\n",
    "\n",
    "plt.axis([0, 1.01, 0, 1.01])\n",
    "plt.xlabel('1 - Specificty')\n",
    "plt.ylabel('TPR / Sensitivity')\n",
    "plt.title('ROC Curve')\n",
    "plt.plot(fpr_nb,tpr_nb)\n",
    "plt.plot(fpr_log,tpr_log)\n",
    "plt.plot(np.arange(0,1, step =0.01), np.arange(0,1, step =0.01))\n",
    "plt.legend(['NB','Logit'])\n",
    "plt.show()"
   ]
  },
  {
   "cell_type": "code",
   "execution_count": 14,
   "metadata": {},
   "outputs": [
    {
     "name": "stdout",
     "output_type": "stream",
     "text": [
      "AUC-NB= 0.8476242969985204\n",
      "AUC-Logit= 0.8389243670726327\n"
     ]
    }
   ],
   "source": [
    "print('AUC-NB=', auc(fpr_nb, tpr_nb))\n",
    "print('AUC-Logit=', auc(fpr_log, tpr_log))"
   ]
  },
  {
   "cell_type": "markdown",
   "metadata": {},
   "source": [
    "## 2. Random Forest + AdaBoost"
   ]
  },
  {
   "cell_type": "code",
   "execution_count": 29,
   "metadata": {},
   "outputs": [],
   "source": [
    "models = [RandomForestClassifier(class_weight='balanced'),AdaBoostClassifier(base_estimator=DecisionTreeClassifier())]"
   ]
  },
  {
   "cell_type": "code",
   "execution_count": 30,
   "metadata": {},
   "outputs": [],
   "source": [
    "params = [{'n_estimators': st.randint(50,200), \n",
    "           'max_features': st.randint(10,50), \n",
    "           'max_depth': st.randint(5,100), \n",
    "           'max_depth': st.randint(5,100)},\n",
    "          {\"base_estimator__max_depth\": st.randint(10,50),\n",
    "           \"base_estimator__min_samples_split\": st.randint(5,15),\n",
    "           \"base_estimator__min_samples_leaf\": st.randint(5,15),\n",
    "           \"base_estimator__max_features\": st.randint(20, 60),\n",
    "           \"n_estimators\": st.randint(20,200),\n",
    "           \"learning_rate\": st.uniform(0.01, 1)\n",
    "          }]"
   ]
  },
  {
   "cell_type": "code",
   "execution_count": 31,
   "metadata": {},
   "outputs": [
    {
     "name": "stdout",
     "output_type": "stream",
     "text": [
      "RandomizedSearchCV(cv=3, error_score='raise-deprecating',\n",
      "          estimator=RandomForestClassifier(bootstrap=True, class_weight='balanced',\n",
      "            criterion='gini', max_depth=None, max_features='auto',\n",
      "            max_leaf_nodes=None, min_impurity_decrease=0.0,\n",
      "            min_impurity_split=None, min_samples_leaf=1,\n",
      "            min_samples_split=2, min_weight_fraction_leaf=0.0,\n",
      "            n_estimators='warn', n_jobs=None, oob_score=False,\n",
      "            random_state=None, verbose=0, warm_start=False),\n",
      "          fit_params=None, iid='warn', n_iter=10, n_jobs=-1,\n",
      "          param_distributions={'n_estimators': <scipy.stats._distn_infrastructure.rv_frozen object at 0x000002DF26494898>, 'max_features': <scipy.stats._distn_infrastructure.rv_frozen object at 0x000002DF264949E8>, 'max_depth': <scipy.stats._distn_infrastructure.rv_frozen object at 0x000002DF26494E10>},\n",
      "          pre_dispatch='2*n_jobs', random_state=None, refit=True,\n",
      "          return_train_score='warn', scoring='roc_auc', verbose=10)\n",
      "Fitting 3 folds for each of 10 candidates, totalling 30 fits\n"
     ]
    },
    {
     "name": "stderr",
     "output_type": "stream",
     "text": [
      "[Parallel(n_jobs=-1)]: Using backend LokyBackend with 8 concurrent workers.\n",
      "[Parallel(n_jobs=-1)]: Done   2 tasks      | elapsed:  8.1min\n",
      "[Parallel(n_jobs=-1)]: Done   9 tasks      | elapsed: 16.4min\n",
      "[Parallel(n_jobs=-1)]: Done  19 out of  30 | elapsed: 26.2min remaining: 15.2min\n",
      "[Parallel(n_jobs=-1)]: Done  23 out of  30 | elapsed: 29.4min remaining:  8.9min\n",
      "[Parallel(n_jobs=-1)]: Done  27 out of  30 | elapsed: 32.2min remaining:  3.6min\n",
      "[Parallel(n_jobs=-1)]: Done  30 out of  30 | elapsed: 32.8min finished\n"
     ]
    },
    {
     "name": "stdout",
     "output_type": "stream",
     "text": [
      "RandomizedSearchCV(cv=3, error_score='raise-deprecating',\n",
      "          estimator=AdaBoostClassifier(algorithm='SAMME.R',\n",
      "          base_estimator=DecisionTreeClassifier(class_weight=None, criterion='gini', max_depth=None,\n",
      "            max_features=None, max_leaf_nodes=None,\n",
      "            min_impurity_decrease=0.0, min_impurity_split=None,\n",
      "            min_samples_leaf=1, min_samples_split=2,\n",
      "            min_weight_fraction_leaf=0.0, presort=False, random_state=None,\n",
      "            splitter='best'),\n",
      "          learning_rate=1.0, n_estimators=50, random_state=None),\n",
      "          fit_params=None, iid='warn', n_iter=10, n_jobs=-1,\n",
      "          param_distributions={'base_estimator__max_depth': <scipy.stats._distn_infrastructure.rv_frozen object at 0x000002DF26494C50>, 'base_estimator__min_samples_split': <scipy.stats._distn_infrastructure.rv_frozen object at 0x000002DF264A4208>, 'base_estimator__min_samples_leaf': <scipy.stats._distn_infra...A4668>, 'learning_rate': <scipy.stats._distn_infrastructure.rv_frozen object at 0x000002DF264A4828>},\n",
      "          pre_dispatch='2*n_jobs', random_state=None, refit=True,\n",
      "          return_train_score='warn', scoring='roc_auc', verbose=10)\n",
      "Fitting 3 folds for each of 10 candidates, totalling 30 fits\n"
     ]
    },
    {
     "name": "stderr",
     "output_type": "stream",
     "text": [
      "[Parallel(n_jobs=-1)]: Using backend LokyBackend with 8 concurrent workers.\n",
      "[Parallel(n_jobs=-1)]: Done   2 tasks      | elapsed:  2.0min\n",
      "[Parallel(n_jobs=-1)]: Done   9 tasks      | elapsed:  8.5min\n",
      "[Parallel(n_jobs=-1)]: Done  19 out of  30 | elapsed: 14.8min remaining:  8.5min\n",
      "[Parallel(n_jobs=-1)]: Done  23 out of  30 | elapsed: 15.5min remaining:  4.7min\n",
      "[Parallel(n_jobs=-1)]: Done  27 out of  30 | elapsed: 17.7min remaining:  2.0min\n",
      "[Parallel(n_jobs=-1)]: Done  30 out of  30 | elapsed: 21.6min finished\n"
     ]
    }
   ],
   "source": [
    "grids = []\n",
    "i = 0\n",
    "for i in range(len(models)):\n",
    "    gs = RandomizedSearchCV(models[i], params[i], n_iter = 10, scoring='roc_auc', verbose= 10, n_jobs=-1, cv=3)\n",
    "    print (gs)\n",
    "    fit = gs.fit(X_train, y_train)\n",
    "    grids.append(fit)"
   ]
  },
  {
   "cell_type": "code",
   "execution_count": 32,
   "metadata": {},
   "outputs": [
    {
     "name": "stdout",
     "output_type": "stream",
     "text": [
      "Mejor Modelo:  RandomForestClassifier(bootstrap=True, class_weight='balanced',\n",
      "            criterion='gini', max_depth=80, max_features=24,\n",
      "            max_leaf_nodes=None, min_impurity_decrease=0.0,\n",
      "            min_impurity_split=None, min_samples_leaf=1,\n",
      "            min_samples_split=2, min_weight_fraction_leaf=0.0,\n",
      "            n_estimators=186, n_jobs=None, oob_score=False,\n",
      "            random_state=None, verbose=0, warm_start=False)\n",
      "AUC:  0.8372086989915208\n",
      "Matriz de Confusión:\n",
      " [[321565 279945]\n",
      " [  1803  18060]]\n",
      "Accuracy:  0.5465718658519119\n",
      "Recall:  0.9092282132608367\n",
      "Precision:  0.06060301001661046 \n",
      "\n",
      "Mejor Modelo:  AdaBoostClassifier(algorithm='SAMME.R',\n",
      "          base_estimator=DecisionTreeClassifier(class_weight=None, criterion='gini', max_depth=34,\n",
      "            max_features=37, max_leaf_nodes=None,\n",
      "            min_impurity_decrease=0.0, min_impurity_split=None,\n",
      "            min_samples_leaf=10, min_samples_split=10,\n",
      "            min_weight_fraction_leaf=0.0, presort=False, random_state=None,\n",
      "            splitter='best'),\n",
      "          learning_rate=0.464543273301003, n_estimators=188,\n",
      "          random_state=None)\n",
      "AUC:  0.8480859535478904\n",
      "Matriz de Confusión:\n",
      " [[600672    838]\n",
      " [ 18844   1019]]\n",
      "Accuracy:  0.9683249835445055\n",
      "Recall:  0.05130141469063082\n",
      "Precision:  0.5487345180398492 \n",
      "\n"
     ]
    }
   ],
   "source": [
    "y_probs = []\n",
    "for i in grids:\n",
    "    print (\"Mejor Modelo: \",i.best_estimator_)\n",
    "    print (\"AUC: \",i.best_score_)\n",
    "    y_pred = i.predict(X_test)\n",
    "    print (\"Matriz de Confusión:\\n\",confusion_matrix(y_test, y_pred))\n",
    "    print (\"Accuracy: \",accuracy_score(y_test, y_pred))\n",
    "    print (\"Recall: \",recall_score(y_test, y_pred))\n",
    "    print (\"Precision: \",precision_score(y_test, y_pred),\"\\n\")\n",
    "    y_aux = i.predict_proba(X_test)\n",
    "    y_probs.append(y_aux[:,1])"
   ]
  },
  {
   "cell_type": "code",
   "execution_count": 33,
   "metadata": {},
   "outputs": [
    {
     "data": {
      "text/plain": [
       "['AB.sav']"
      ]
     },
     "execution_count": 33,
     "metadata": {},
     "output_type": "execute_result"
    }
   ],
   "source": [
    "joblib.dump(grids[0], './Modelos/BoW/BoW_RF.sav')\n",
    "joblib.dump(grids[1], './Modelos/BoW/BoW_AB.sav')"
   ]
  },
  {
   "cell_type": "code",
   "execution_count": 34,
   "metadata": {},
   "outputs": [
    {
     "data": {
      "image/png": "[encoded data removed]",
      "text/plain": [
       "<Figure size 432x288 with 1 Axes>"
      ]
     },
     "metadata": {},
     "output_type": "display_data"
    }
   ],
   "source": [
    "fpr_RF,tpr_RF,thr_RF = roc_curve(y_test, y_probs[0])\n",
    "fpr_ABC,tpr_ABC,thr_ABC = roc_curve(y_test, y_probs[1])\n",
    "\n",
    "plt.axis([0, 1.01, 0, 1.01])\n",
    "plt.xlabel('1 - Specificty')\n",
    "plt.ylabel('TPR / Sensitivity')\n",
    "plt.title('ROC Curve')\n",
    "plt.plot(fpr_RF,tpr_RF)\n",
    "plt.plot(fpr_ABC,tpr_ABC)\n",
    "plt.plot(np.arange(0,1, step =0.01), np.arange(0,1, step =0.01))\n",
    "plt.legend(['RF', 'ABC'])\n",
    "plt.show()"
   ]
  },
  {
   "cell_type": "code",
   "execution_count": 35,
   "metadata": {},
   "outputs": [
    {
     "name": "stdout",
     "output_type": "stream",
     "text": [
      "AUC-RF= 0.8250597705988236\n",
      "AUC-ABC= 0.8378906607751083\n"
     ]
    }
   ],
   "source": [
    "print('AUC-RF=', auc(fpr_RF, tpr_RF))\n",
    "print('AUC-ABC=', auc(fpr_ABC, tpr_ABC))"
   ]
  },
  {
   "cell_type": "markdown",
   "metadata": {},
   "source": [
    "## 3. XGBoost + LGBM"
   ]
  },
  {
   "cell_type": "code",
   "execution_count": 57,
   "metadata": {},
   "outputs": [],
   "source": [
    "models = [XGBClassifier(nthreads=-1), lgb.LGBMClassifier()]"
   ]
  },
  {
   "cell_type": "code",
   "execution_count": 58,
   "metadata": {},
   "outputs": [],
   "source": [
    "params = [{\"n_estimators\": st.randint(200,1000), # Number of boosted trees to fit.\n",
    "            \"max_depth\": st.randint(3, 12),     # Maximum tree depth for base learners.\n",
    "            \"learning_rate\": st.uniform(0.05, 0.4), #     Boosting learning rate (xgb’s “eta”)\n",
    "            \"colsample_bytree\": st.beta(10, 1), #     Subsample ratio of columns when constructing each tree.\n",
    "            \"subsample\": st.beta(10, 1),     # Subsample ratio of the training instance.\n",
    "            \"gamma\": st.uniform(0, 10), #     Minimum loss reduction required to make a further partition on a leaf node of the tree.\n",
    "            'reg_alpha': st.uniform(0.05,10),   # L1 regularization term on weights\n",
    "            \"min_child_weight\": st.uniform(1,20), #    Minimum sum of instance weight(hessian) needed in a child.\n",
    "          },\n",
    "         {\"n_estimators\": st.randint(200, 1000) # Number of boosted trees to fit.\n",
    "            \"max_depth\": st.randint(3, 12),     # Maximum tree depth for base learners.\n",
    "            \"learning_rate\": st.uniform(0.05, 0.4), #     Boosting learning rate (xgb’s “eta”)\n",
    "            \"colsample_bytree\": st.beta(10, 1), #     Subsample ratio of columns when constructing each tree.\n",
    "            \"subsample\": st.beta(10, 1),     # Subsample ratio of the training instance.\n",
    "            \"gamma\": st.uniform(0, 10), #     Minimum loss reduction required to make a further partition on a leaf node of the tree.\n",
    "            'reg_alpha': st.uniform(0.05,10),   # L1 regularization term on weights\n",
    "            \"min_child_weight\": st.uniform(1,20), #    Minimum sum of instance weight(hessian) needed in a child.\n",
    "          }]"
   ]
  },
  {
   "cell_type": "code",
   "execution_count": 59,
   "metadata": {},
   "outputs": [
    {
     "name": "stdout",
     "output_type": "stream",
     "text": [
      "RandomizedSearchCV(cv=3, error_score='raise-deprecating',\n",
      "          estimator=XGBClassifier(base_score=0.5, booster='gbtree', colsample_bylevel=1,\n",
      "       colsample_bytree=1, gamma=0, learning_rate=0.1, max_delta_step=0,\n",
      "       max_depth=3, min_child_weight=1, missing=None, n_estimators=100,\n",
      "       n_jobs=1, nthread=None, nthreads=-1, objective='binary:logistic',\n",
      "       random_state=0, reg_alpha=0, reg_lambda=1, scale_pos_weight=1,\n",
      "       seed=None, silent=True, subsample=1),\n",
      "          fit_params=None, iid='warn', n_iter=10, n_jobs=-1,\n",
      "          param_distributions={'n_estimators': <scipy.stats._distn_infrastructure.rv_frozen object at 0x000002DF302DF0F0>, 'max_depth': <scipy.stats._distn_infrastructure.rv_frozen object at 0x000002DF302DF240>, 'learning_rate': <scipy.stats._distn_infrastructure.rv_frozen object at 0x000002DF302DF390>, 'cols...F0>, 'min_child_weight': <scipy.stats._distn_infrastructure.rv_frozen object at 0x000002DF302DFD68>},\n",
      "          pre_dispatch='2*n_jobs', random_state=None, refit=True,\n",
      "          return_train_score='warn', scoring='roc_auc', verbose=10)\n",
      "Fitting 3 folds for each of 10 candidates, totalling 30 fits\n"
     ]
    },
    {
     "name": "stderr",
     "output_type": "stream",
     "text": [
      "[Parallel(n_jobs=-1)]: Using backend LokyBackend with 8 concurrent workers.\n",
      "[Parallel(n_jobs=-1)]: Done   2 tasks      | elapsed:   42.5s\n",
      "[Parallel(n_jobs=-1)]: Done   9 tasks      | elapsed:  1.7min\n",
      "[Parallel(n_jobs=-1)]: Done  19 out of  30 | elapsed:  3.0min remaining:  1.7min\n",
      "[Parallel(n_jobs=-1)]: Done  23 out of  30 | elapsed:  3.2min remaining:   57.6s\n",
      "[Parallel(n_jobs=-1)]: Done  27 out of  30 | elapsed:  4.0min remaining:   26.5s\n",
      "[Parallel(n_jobs=-1)]: Done  30 out of  30 | elapsed:  4.1min finished\n"
     ]
    },
    {
     "name": "stdout",
     "output_type": "stream",
     "text": [
      "RandomizedSearchCV(cv=3, error_score='raise-deprecating',\n",
      "          estimator=LGBMClassifier(boosting_type='gbdt', class_weight=None, colsample_bytree=1.0,\n",
      "        importance_type='split', learning_rate=0.1, max_depth=-1,\n",
      "        min_child_samples=20, min_child_weight=0.001, min_split_gain=0.0,\n",
      "        n_estimators=100, n_jobs=-1, num_leaves=31, objective=None,\n",
      "        random_state=None, reg_alpha=0.0, reg_lambda=0.0, silent=True,\n",
      "        subsample=1.0, subsample_for_bin=200000, subsample_freq=0),\n",
      "          fit_params=None, iid='warn', n_iter=10, n_jobs=-1,\n",
      "          param_distributions={'n_estimators': <scipy.stats._distn_infrastructure.rv_frozen object at 0x000002DF302DFF28>, 'max_depth': <scipy.stats._distn_infrastructure.rv_frozen object at 0x000002DF31601080>, 'learning_rate': <scipy.stats._distn_infrastructure.rv_frozen object at 0x000002DF316011D0>, 'cols...68>, 'min_child_weight': <scipy.stats._distn_infrastructure.rv_frozen object at 0x000002DF31601E48>},\n",
      "          pre_dispatch='2*n_jobs', random_state=None, refit=True,\n",
      "          return_train_score='warn', scoring='roc_auc', verbose=10)\n",
      "Fitting 3 folds for each of 10 candidates, totalling 30 fits\n"
     ]
    },
    {
     "name": "stderr",
     "output_type": "stream",
     "text": [
      "[Parallel(n_jobs=-1)]: Using backend LokyBackend with 8 concurrent workers.\n",
      "[Parallel(n_jobs=-1)]: Done   2 tasks      | elapsed:   20.5s\n",
      "[Parallel(n_jobs=-1)]: Done   9 tasks      | elapsed:   35.3s\n",
      "[Parallel(n_jobs=-1)]: Done  19 out of  30 | elapsed:  1.2min remaining:   40.8s\n",
      "[Parallel(n_jobs=-1)]: Done  23 out of  30 | elapsed:  1.5min remaining:   26.8s\n",
      "[Parallel(n_jobs=-1)]: Done  27 out of  30 | elapsed:  1.6min remaining:   10.3s\n",
      "[Parallel(n_jobs=-1)]: Done  30 out of  30 | elapsed:  1.6min finished\n"
     ]
    }
   ],
   "source": [
    "grids = []\n",
    "i = 0\n",
    "for i in range(len(models)):\n",
    "    gs = RandomizedSearchCV(models[i], params[i], n_iter = 20, scoring='roc_auc', verbose= 10, n_jobs=-1, cv=3)\n",
    "    print (gs)\n",
    "    fit = gs.fit(X_train.astype('float32'), y_train.astype('float32'))\n",
    "    grids.append(fit)"
   ]
  },
  {
   "cell_type": "code",
   "execution_count": 64,
   "metadata": {
    "scrolled": true
   },
   "outputs": [
    {
     "name": "stdout",
     "output_type": "stream",
     "text": [
      "Mejor Modelo:  XGBClassifier(base_score=0.5, booster='gbtree', colsample_bylevel=1,\n",
      "       colsample_bytree=0.7131596653807655, gamma=7.19636775497378,\n",
      "       learning_rate=0.333115052417986, max_delta_step=0, max_depth=7,\n",
      "       min_child_weight=2.5897023481018313, missing=None, n_estimators=38,\n",
      "       n_jobs=1, nthread=None, nthreads=-1, objective='binary:logistic',\n",
      "       random_state=0, reg_alpha=0.6837368354726969, reg_lambda=1,\n",
      "       scale_pos_weight=1, seed=None, silent=True,\n",
      "       subsample=0.9249826075203034)\n",
      "AUC:  0.7585695107240308\n",
      "Matriz de Confusión:\n",
      " [[601346    164]\n",
      " [ 19540    323]]\n",
      "Accuracy:  0.968289578079511\n",
      "Recall:  0.016261390525096914\n",
      "Precision:  0.6632443531827515 \n",
      "\n",
      "Mejor Modelo:  LGBMClassifier(boosting_type='gbdt', class_weight=None,\n",
      "        colsample_bytree=0.9751857297408748, gamma=1.12141608740561,\n",
      "        importance_type='split', learning_rate=0.43396242932871093,\n",
      "        max_depth=10, min_child_samples=20,\n",
      "        min_child_weight=9.25286786273632, min_split_gain=0.0,\n",
      "        n_estimators=28, n_jobs=-1, num_leaves=31, objective=None,\n",
      "        random_state=None, reg_alpha=5.84854301173105, reg_lambda=0.0,\n",
      "        silent=True, subsample=0.9771881169819441,\n",
      "        subsample_for_bin=200000, subsample_freq=0)\n",
      "AUC:  0.775496122001653\n",
      "Matriz de Confusión:\n",
      " [[600872    638]\n",
      " [ 19218    645]]\n",
      "Accuracy:  0.9680449585031857\n",
      "Recall:  0.032472436187887026\n",
      "Precision:  0.5027279812938426 \n",
      "\n"
     ]
    }
   ],
   "source": [
    "y_probs = []\n",
    "for i in grids:\n",
    "    print (\"Mejor Modelo: \",i.best_estimator_)\n",
    "    print (\"AUC: \",i.best_score_)\n",
    "    y_pred = i.predict(X_test.astype('float32'))\n",
    "    print (\"Matriz de Confusión:\\n\",confusion_matrix(y_test.astype('float32'), y_pred.astype('float32')))\n",
    "    print (\"Accuracy: \",accuracy_score(y_test.astype('float32'), y_pred.astype('float32')))\n",
    "    print (\"Recall: \",recall_score(y_test.astype('float32'), y_pred.astype('float32')))\n",
    "    print (\"Precision: \",precision_score(y_test.astype('float32'), y_pred.astype('float32')),\"\\n\")\n",
    "    y_aux = i.predict_proba(X_test.astype('float32'))\n",
    "    y_probs.append(y_aux[:,1])"
   ]
  },
  {
   "cell_type": "code",
   "execution_count": 65,
   "metadata": {},
   "outputs": [
    {
     "data": {
      "text/plain": [
       "['LGBM.sav']"
      ]
     },
     "execution_count": 65,
     "metadata": {},
     "output_type": "execute_result"
    }
   ],
   "source": [
    "joblib.dump(grids[0], './Modelos/BoW/BoW_XGB.sav')\n",
    "joblib.dump(grids[1], './Modelos/BoW/BoW_LGBM.sav')"
   ]
  },
  {
   "cell_type": "code",
   "execution_count": 66,
   "metadata": {},
   "outputs": [
    {
     "data": {
      "image/png": "[encoded data removed]",
      "text/plain": [
       "<Figure size 432x288 with 1 Axes>"
      ]
     },
     "metadata": {},
     "output_type": "display_data"
    }
   ],
   "source": [
    "fpr_XGB,tpr_XGB,thr_XGB = roc_curve(y_test, y_probs[0])\n",
    "fpr_LB,tpr_LB,thr_LB = roc_curve(y_test, y_probs[1])\n",
    "\n",
    "plt.axis([0, 1.01, 0, 1.01])\n",
    "plt.xlabel('1 - Specificty')\n",
    "plt.ylabel('TPR / Sensitivity')\n",
    "plt.title('ROC Curve')\n",
    "plt.plot(fpr_XGB,tpr_XGB)\n",
    "plt.plot(fpr_LB,tpr_LB)\n",
    "plt.plot(np.arange(0,1, step =0.01), np.arange(0,1, step =0.01))\n",
    "plt.legend(['XGB', 'LB'])\n",
    "plt.show()"
   ]
  },
  {
   "cell_type": "code",
   "execution_count": 67,
   "metadata": {},
   "outputs": [
    {
     "name": "stdout",
     "output_type": "stream",
     "text": [
      "AUC-XGB= 0.743547398531163\n",
      "AUC-LB= 0.7630940674397164\n"
     ]
    }
   ],
   "source": [
    "print('AUC-XGB=', auc(fpr_XGB, tpr_XGB))\n",
    "print('AUC-LB=', auc(fpr_LB, tpr_LB))"
   ]
  }
 ],
 "metadata": {
  "kernelspec": {
   "display_name": "Python 3",
   "language": "python",
   "name": "python3"
  },
  "language_info": {
   "codemirror_mode": {
    "name": "ipython",
    "version": 3
   },
   "file_extension": ".py",
   "mimetype": "text/x-python",
   "name": "python",
   "nbconvert_exporter": "python",
   "pygments_lexer": "ipython3",
   "version": "3.6.5"
  }
 },
 "nbformat": 4,
 "nbformat_minor": 2
}
