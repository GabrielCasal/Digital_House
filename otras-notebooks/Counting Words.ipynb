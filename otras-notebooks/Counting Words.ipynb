{
 "cells": [
  {
   "cell_type": "code",
   "execution_count": 1,
   "metadata": {},
   "outputs": [
    {
     "name": "stdout",
     "output_type": "stream",
     "text": [
      "Requirement already satisfied: unidecode in /anaconda3/lib/python3.6/site-packages (1.0.22)\n",
      "[nltk_data] Downloading package stopwords to /Users/mac/nltk_data...\n",
      "[nltk_data]   Package stopwords is already up-to-date!\n"
     ]
    },
    {
     "data": {
      "text/plain": [
       "True"
      ]
     },
     "execution_count": 1,
     "metadata": {},
     "output_type": "execute_result"
    }
   ],
   "source": [
    "!pip install unidecode\n",
    "import pandas as pd\n",
    "import re\n",
    "from nltk.corpus import stopwords\n",
    "import nltk\n",
    "from  unidecode import unidecode\n",
    "nltk.download('stopwords')"
   ]
  },
  {
   "cell_type": "code",
   "execution_count": 2,
   "metadata": {},
   "outputs": [],
   "source": [
    "df = pd.read_csv('./DATA/pal-bel-rec.csv')"
   ]
  },
  {
   "cell_type": "code",
   "execution_count": 3,
   "metadata": {},
   "outputs": [
    {
     "data": {
      "text/plain": [
       "Index(['index_right', 'BARRIO', 'Unnamed: 0', 'ID', 'TIPO_PROPIEDAD',\n",
       "       'lat-lon', 'latitud', 'longitud', 'price', 'currency',\n",
       "       'price_aprox_local_currency', 'price_aprox_usd', 'surface_total_in_m2',\n",
       "       'surface_covered_in_m2', 'price_usd_per_m2', 'price_per_m2', 'floor',\n",
       "       'rooms', 'expenses', 'properati_url', 'description', 'title',\n",
       "       'image_thumbnail', 'PAIS', 'PROVINCIA', 'CIUDAD-PARTIDO', 'SUBBARRIO',\n",
       "       'Ambientes', 'pileta', 'amenities', 'gimnasio', 'laundry', 'sum',\n",
       "       'solarium', 'parrilla', 'a estrenar', 'subte', 'cochera', 'geometry'],\n",
       "      dtype='object')"
      ]
     },
     "execution_count": 3,
     "metadata": {},
     "output_type": "execute_result"
    }
   ],
   "source": [
    "df.columns"
   ]
  },
  {
   "cell_type": "code",
   "execution_count": 4,
   "metadata": {},
   "outputs": [],
   "source": [
    "desc = df.description"
   ]
  },
  {
   "cell_type": "code",
   "execution_count": 5,
   "metadata": {},
   "outputs": [],
   "source": [
    "desc = desc.str.lower()"
   ]
  },
  {
   "cell_type": "code",
   "execution_count": 6,
   "metadata": {},
   "outputs": [],
   "source": [
    "desc = desc.apply(unidecode)"
   ]
  },
  {
   "cell_type": "code",
   "execution_count": 7,
   "metadata": {},
   "outputs": [],
   "source": [
    "desc = desc.str.replace('.',' ')\n",
    "desc = desc.str.replace(',',' ')\n",
    "desc = desc.str.replace(':',' ')\n",
    "desc = desc.str.replace('!',' ')\n",
    "desc = desc.str.replace('?',' ')\n",
    "desc = desc.str.replace('¡',' ')\n",
    "desc = desc.str.replace('¿',' ')\n",
    "desc = desc.str.replace('*',' ')\n",
    "desc = desc.str.replace('/',' ')\n",
    "desc = desc.str.replace('(',' ')\n",
    "desc = desc.str.replace(')',' ')\n",
    "desc = desc.str.replace('\"',' ')\n",
    "desc = desc.str.replace('-',' ')\n",
    "desc = desc.str.replace(' m ',' ')\n",
    "desc = desc.str.replace('[0-9]',' ')"
   ]
  },
  {
   "cell_type": "code",
   "execution_count": 12,
   "metadata": {},
   "outputs": [],
   "source": [
    "def remove_stopwords(celda):\n",
    "    word_list = celda.split(' ')\n",
    "    new_list = [word for word in word_list if word not in stopwords.words('spanish')]\n",
    "    return ' '.join(new_list)"
   ]
  },
  {
   "cell_type": "code",
   "execution_count": 9,
   "metadata": {},
   "outputs": [],
   "source": [
    "desc = desc.apply(remove_stopwords)"
   ]
  },
  {
   "cell_type": "code",
   "execution_count": 10,
   "metadata": {},
   "outputs": [
    {
     "data": {
      "text/plain": [
       "0     superficie    metros totales  apto credito  do...\n",
       "1     excelente penthouse duplex av  libertador buen...\n",
       "2     excelente edificio esquina     anos cochera ba...\n",
       "3     piso alto  palier privadoliving comedor import...\n",
       "4     junin vcte  lopezdepartamento tipo loft edific...\n",
       "5     excelente piso categoria totalmente reciclado ...\n",
       "6     departamento  living  comedor    dormitorio s ...\n",
       "7       publicado omar  dominguez propiedades traves...\n",
       "8     apto profesional  apto credito  hermoso depart...\n",
       "9       amb  apto profesional excelente ubicacion ed...\n",
       "10    ubicado piso alto balcon terraza palermo chico...\n",
       "11    venta casa  dos plantas  planta baja  living c...\n",
       "12    semipiso    m  frente  palier semiprivado  hal...\n",
       "13    excelente departamento av  libertador  pulmon ...\n",
       "14    lindo duplex buen  deg piso  living comedor l ...\n",
       "15    espectacular penthouse avenida libertador dobl...\n",
       "16    piso categoria frente inmejorable ubicacion  p...\n",
       "17    piso     metros categoria frente ex jardin zoo...\n",
       "18    departamento amplio ambiente divisible  estren...\n",
       "19    condo hotel premium lafinur libertador habitac...\n",
       "Name: description, dtype: object"
      ]
     },
     "execution_count": 10,
     "metadata": {},
     "output_type": "execute_result"
    }
   ],
   "source": [
    "desc.head(20)"
   ]
  },
  {
   "cell_type": "code",
   "execution_count": 11,
   "metadata": {},
   "outputs": [
    {
     "data": {
      "text/plain": [
       "cocina                 3026\n",
       "comedor                2761\n",
       "bano                   2709\n",
       "balcon                 2383\n",
       "ambientes              2241\n",
       "living                 2234\n",
       "piso                   2172\n",
       "departamento           1989\n",
       "edificio               1947\n",
       "m                      1877\n",
       "dormitorios            1714\n",
       "excelente              1713\n",
       "pisos                  1703\n",
       "frente                 1663\n",
       "x                      1548\n",
       "dormitorio             1548\n",
       "completo               1537\n",
       "av                     1446\n",
       "servicio               1404\n",
       "lavadero               1340\n",
       "expensas               1289\n",
       "venta                  1280\n",
       "cochera                1265\n",
       "dos                    1229\n",
       "luminoso               1203\n",
       "palermo                1178\n",
       "medidas                1112\n",
       "suite                  1057\n",
       "amplio                 1023\n",
       "toilette               1021\n",
       "                       ... \n",
       "moquete                   1\n",
       "inmediatas                1\n",
       "seguimos                  1\n",
       "estrenarlas               1\n",
       "entera                    1\n",
       "cuestion                  1\n",
       "fuego                     1\n",
       "completoservicios         1\n",
       "mantiiguedad              1\n",
       "superfcie                 1\n",
       "enchapadas                1\n",
       "calefaccionadas           1\n",
       "federaldependencia        1\n",
       "ascensoropcional          1\n",
       "apra                      1\n",
       "blindadasedificio         1\n",
       "screenpisos               1\n",
       "maderamateriales          1\n",
       "serrados                  1\n",
       "libreria                  1\n",
       "bauleradorm               1\n",
       "diagnostico               1\n",
       "comdor                    1\n",
       "nuevosestado              1\n",
       "astengo                   1\n",
       "amplos                    1\n",
       "federalconstruccion       1\n",
       "nocturnas                 1\n",
       "marmetas                  1\n",
       "verfolger                 1\n",
       "Length: 9238, dtype: int64"
      ]
     },
     "execution_count": 11,
     "metadata": {},
     "output_type": "execute_result"
    }
   ],
   "source": [
    "desc.str.split(expand=True).stack().value_counts()"
   ]
  }
 ],
 "metadata": {
  "kernelspec": {
   "display_name": "Python 3",
   "language": "python",
   "name": "python3"
  },
  "language_info": {
   "codemirror_mode": {
    "name": "ipython",
    "version": 3
   },
   "file_extension": ".py",
   "mimetype": "text/x-python",
   "name": "python",
   "nbconvert_exporter": "python",
   "pygments_lexer": "ipython3",
   "version": "3.6.4"
  }
 },
 "nbformat": 4,
 "nbformat_minor": 2
}
