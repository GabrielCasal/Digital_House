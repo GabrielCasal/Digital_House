{
 "cells": [
  {
   "cell_type": "markdown",
   "metadata": {},
   "source": [
    "# Desafio 1"
   ]
  },
  {
   "cell_type": "markdown",
   "metadata": {},
   "source": [
    "link a los datos: http://campus.digitalhouse.com/mod/url/view.php?id=32168\n",
    "Es necesario guardar el csv con el nombre properatti.csv en una carpeta DATA en el raiz del proyecto"
   ]
  },
  {
   "cell_type": "code",
   "execution_count": 1,
   "metadata": {},
   "outputs": [],
   "source": [
    "#Importar librerias\n",
    "import numpy as np\n",
    "import pandas as pd\n",
    "import re\n",
    "% matplotlib inline\n",
    "import matplotlib.pyplot as plt\n",
    "import seaborn as sns"
   ]
  },
  {
   "cell_type": "code",
   "execution_count": 2,
   "metadata": {},
   "outputs": [],
   "source": [
    "#Leemos el archivo y creamos el dataframe \"data\"\n",
    "data = pd.read_csv(\"./DATA/properatti.csv\")"
   ]
  },
  {
   "cell_type": "code",
   "execution_count": 3,
   "metadata": {},
   "outputs": [],
   "source": [
    "#1. #Renombramos Columnas\n",
    "data.rename(columns={'Unnamed: 0':'ID',\n",
    "                    'property_type':'TIPO_PROPIEDAD'}, inplace = True) "
   ]
  },
  {
   "cell_type": "code",
   "execution_count": 4,
   "metadata": {},
   "outputs": [],
   "source": [
    "#2. Agregamos 4 columnas al dataframe \"data\" (PAIS/PROVINCIA/CIUDAD/BARRIO) a partir de place_with_parent_names,place_name.\n",
    "\n",
    "#2.1 Spliteamos para sacar el pipe y creamos un nuevo dataframe (df_ubicacion) que luego joinearemos para pegarle las 4 columnas\n",
    "\n",
    "pais_lista =  [elemento[1] for elemento in [sublista.split('|') for sublista in data.place_with_parent_names]]\n",
    "provincia_region_lista =  [elemento[2] for elemento in [sublista.split('|') for sublista in data.place_with_parent_names]]\n",
    "barrio_ciudad =  [elemento[3] for elemento in [sublista.split('|') for sublista in data.place_with_parent_names]]\n",
    "barrio  = data['place_name'].tolist()\n",
    "\n",
    "d = {'PAIS':pais_lista ,\n",
    "     'PROVINCIA':  provincia_region_lista  ,\n",
    "     'CIUDAD':barrio_ciudad,\n",
    "     'BARRIO':barrio,\n",
    "     'ID': data['ID'].tolist()\n",
    "    }\n",
    "df_ubicacion = pd.DataFrame(data=d)\n",
    "\n",
    "#Si PROVINCIA = CABA -> a ciudad asignar CABA.\n",
    "df_ubicacion['CIUDAD'] = np.where(df_ubicacion['PROVINCIA'] =='Capital Federal','Capital Federal',df_ubicacion['CIUDAD'])\n",
    "\n",
    "#Si CIUDAD = BARRIO -> BARRIO DEJARLO EN NAN\n",
    "df_ubicacion['BARRIO'] = np.where(df_ubicacion['BARRIO'] ==df_ubicacion['CIUDAD'],'SIN DATO',df_ubicacion['BARRIO'])\n",
    "\n",
    "#Si CIUDAD esta vacio ('') y barrio == a pronvincia , llenar CIUDAD Y BARRIO CON NAN\n",
    "df_ubicacion['BARRIO'] = np.where((df_ubicacion['BARRIO'] ==df_ubicacion['PROVINCIA']) & (df_ubicacion['CIUDAD'] =='') ,'SIN DATO',df_ubicacion['BARRIO'])\n",
    "df_ubicacion['CIUDAD'] = np.where((df_ubicacion['BARRIO'] ==df_ubicacion['PROVINCIA']) & (df_ubicacion['CIUDAD'] =='') ,'SIN DATO',df_ubicacion['CIUDAD'])\n",
    "df_ubicacion['CIUDAD'] = np.where(df_ubicacion['CIUDAD'] =='', 'SIN DATO',df_ubicacion['CIUDAD'])\n",
    "\n",
    "#2.2agregamos esta informacion al data frame DATA\n",
    "data = pd.merge(data, df_ubicacion, on='ID', how='left')\n",
    "data.rename(columns={'CIUDAD':'CIUDAD-PARTIDO'}, inplace=True)\n",
    "\n"
   ]
  },
  {
   "cell_type": "code",
   "execution_count": null,
   "metadata": {},
   "outputs": [],
   "source": [
    "# Extraer los m2 y completar faltantes - Santi"
   ]
  },
  {
   "cell_type": "code",
   "execution_count": null,
   "metadata": {},
   "outputs": [],
   "source": [
    "# Extraer los ambientes y completar faltantes - Fer"
   ]
  },
  {
   "cell_type": "code",
   "execution_count": null,
   "metadata": {},
   "outputs": [],
   "source": [
    "# Regex para determinar ambientes"
   ]
  },
  {
   "cell_type": "code",
   "execution_count": null,
   "metadata": {},
   "outputs": [],
   "source": [
    "patron = r'(\\d*|mono|\\w*)\\s*?amb\\w*'\n",
    "regex = re.compile(patron, flags=re.IGNORECASE)\n",
    "data[\"title_dato\"] = data.title.str.extract(r'(\\d*|mono|\\w*)\\s*?amb\\w*', expand=False)"
   ]
  },
  {
   "cell_type": "code",
   "execution_count": null,
   "metadata": {},
   "outputs": [],
   "source": [
    "patron = r'(\\d*|MONO|\\w*)\\s*?AMB\\w*'\n",
    "regex = re.compile(patron, flags=re.IGNORECASE)\n",
    "data[\"title_dato1\"] = data.title.str.extract(r'(\\d*|MONO|\\w*)\\s*?AMB\\w*', expand=False)"
   ]
  },
  {
   "cell_type": "code",
   "execution_count": null,
   "metadata": {},
   "outputs": [],
   "source": [
    "patron = r'(\\d*|mono|\\w*)\\s*?amb\\w*'\n",
    "regex = re.compile(patron, flags=re.IGNORECASE)\n",
    "data[\"description_dato\"] = data.description.str.extract(r'(\\d*|mono|\\w*)\\s*?amb\\w*', expand=False)"
   ]
  },
  {
   "cell_type": "code",
   "execution_count": null,
   "metadata": {},
   "outputs": [],
   "source": [
    "patron = r'(\\d*|MONO|\\w*)\\s*?AMB\\w*'\n",
    "regex = re.compile(patron, flags=re.IGNORECASE)\n",
    "data[\"description_dato1\"] = data.description.str.extract(r'(\\d*|MONO|\\w*)\\s*?AMB\\w*', expand=False)"
   ]
  },
  {
   "cell_type": "code",
   "execution_count": null,
   "metadata": {},
   "outputs": [],
   "source": [
    "# Reemplazar los valores NaN por 0"
   ]
  },
  {
   "cell_type": "code",
   "execution_count": null,
   "metadata": {},
   "outputs": [],
   "source": [
    "data[\"title_dato\"]= data[\"title_dato\"].fillna(0)\n",
    "data[\"title_dato1\"]= data[\"title_dato1\"].fillna(0)\n",
    "data[\"description_dato\"]= data[\"description_dato\"].fillna(0)\n",
    "data[\"description_dato1\"]= data[\"description_dato1\"].fillna(0)"
   ]
  },
  {
   "cell_type": "code",
   "execution_count": null,
   "metadata": {},
   "outputs": [],
   "source": [
    "# Generar datos de ambientes con palabras clave"
   ]
  },
  {
   "cell_type": "code",
   "execution_count": null,
   "metadata": {},
   "outputs": [],
   "source": [
    "data.replace({'title_dato': {'4º':0,'3º':0,'½':0,\"Mono\":1,\"siete\":7,\"IMPORTANTE\":1,\"importante\":1,\"0002\":2,\"AMPLISIMO\":1,\"hermoso\":1,\"9\":9,\"8\":8,\"7\":7,\"6\":6,\"5\":5,\"4\":4,\"3\":3,\"2\":2,\"1\":1,\"0\":0,\"Comodo\":1,\"amplio\":1,\"Unico\":1,\"gran\":1,\"Único\":1,\"Amplio\":1,\"un\":1,\"MONOH\":1,\"MON\":1,\"AMPLIO\":1,\"BMONO\":1,\"M0NO\":1,\"UN\":1,\"MONO\":1, \"mono\":1, \"DOS\":2, \"dos\":2, \"TRES\":3, \"tres\":3, \"CUATRO\":4, \"cuatro\":4,\"CINCO\":5, \"cinco\":5}},  inplace = True)\n",
    "data.replace({'title_dato1': {'4º':0,'3º':0,'½':0,\"Mono\":1,\"siete\":7,\"IMPORTANTE\":1,\"importante\":1,\"0002\":2,\"AMPLISIMO\":1,\"hermoso\":1,\"9\":9,\"8\":8,\"7\":7,\"6\":6,\"5\":5,\"4\":4,\"3\":3,\"2\":2,\"1\":1,\"0\":0,\"Comodo\":1,\"amplio\":1,\"Unico\":1,\"gran\":1,\"Único\":1,\"Amplio\":1,\"un\":1,\"MONOH\":1,\"MON\":1,\"AMPLIO\":1,\"BMONO\":1,\"M0NO\":1,\"UN\":1,\"MONO\": 1, \"mono\": 1, \"DOS\" : 2, \"dos\": 2, \"TRES\": 3,\"tres\":3,\"CUATRO\":4,\"cuatro\":4,\"CINCO\":5, \"cinco\":5}},  inplace = True)\n",
    "data.replace({'description_dato': {'4º':0,'3º':0,'½':0,\"Mono\":1,\"siete\":7,\"IMPORTANTE\":1,\"importante\":1,\"0002\":2,\"AMPLISIMO\":1,\"hermoso\":1,\"9\":9,\"8\":8,\"7\":7,\"6\":6,\"5\":5,\"4\":4,\"3\":3,\"2\":2,\"1\":1,\"0\":0,\"Comodo\":1,\"amplio\":1,\"Unico\":1,\"gran\":1,\"Único\":1,\"Amplio\":1,\"un\":1,\"MONOH\":1,\"MON\":1,\"AMPLIO\":1,\"BMONO\":1,\"M0NO\":1,\"UN\":1,\"MONO\": 1, \"mono\": 1, \"DOS\" : 2, \"dos\": 2, \"TRES\": 3,\"tres\":3,\"CUATRO\":4,\"cuatro\":4,\"CINCO\":5, \"cinco\":5}},  inplace = True)\n",
    "data.replace({'description_dato1': {'4º':0,'3º':0,'½':0,\"Mono\":1,\"siete\":7,\"IMPORTANTE\":1,\"importante\":1,\"0002\":2,\"AMPLISIMO\":1,\"hermoso\":1,\"9\":9,\"8\":8,\"7\":7,\"6\":6,\"5\":5,\"4\":4,\"3\":3,\"2\":2,\"1\":1,\"0\":0,\"Comodo\":1,\"amplio\":1,\"Unico\":1,\"gran\":1,\"Único\":1,\"Amplio\":1,\"un\":1,\"MONOH\":1,\"MON\":1,\"AMPLIO\":1,\"BMONO\":1,\"M0NO\":1,\"UN\":1,\"MONO\": 1, \"mono\": 1, \"DOS\" : 2, \"dos\": 2, \"TRES\": 3,\"tres\":3,\"CUATRO\":4,\"cuatro\":4,\"CINCO\":5, \"cinco\":5}},  inplace = True)"
   ]
  },
  {
   "cell_type": "code",
   "execution_count": null,
   "metadata": {},
   "outputs": [],
   "source": [
    "# Los valores texto indetrminados los convierto en 0"
   ]
  },
  {
   "cell_type": "code",
   "execution_count": null,
   "metadata": {},
   "outputs": [],
   "source": [
    "data[\"title_dato\"]=data[\"title_dato\"].replace(r'[a-z]|[A-Z]', 0, regex=True)\n",
    "data[\"title_dato1\"]=data[\"title_dato1\"].replace(r'[a-z]|[A-Z]', 0, regex=True)\n",
    "data[\"description_dato\"]=data[\"description_dato\"].replace(r'[a-z]|[A-Z]', 0, regex=True)\n",
    "data[\"description_dato1\"]=data[\"description_dato1\"].replace(r'[a-z]|[A-Z]', 0, regex=True)"
   ]
  },
  {
   "cell_type": "code",
   "execution_count": null,
   "metadata": {},
   "outputs": [],
   "source": [
    "#convierto los datos a numeric para poder calcular los ambientes"
   ]
  },
  {
   "cell_type": "code",
   "execution_count": null,
   "metadata": {},
   "outputs": [],
   "source": [
    "data[['title_dato','title_dato1','description_dato','description_dato1']] = data[['title_dato','title_dato1','description_dato','description_dato1']].apply(pd.to_numeric)"
   ]
  },
  {
   "cell_type": "code",
   "execution_count": null,
   "metadata": {},
   "outputs": [],
   "source": [
    "#Calculo los ambientes"
   ]
  },
  {
   "cell_type": "code",
   "execution_count": null,
   "metadata": {},
   "outputs": [],
   "source": [
    "data['Ambientes']=data[['title_dato','title_dato1','description_dato','description_dato1']].apply(np.max,axis=1)"
   ]
  },
  {
   "cell_type": "code",
   "execution_count": null,
   "metadata": {},
   "outputs": [],
   "source": [
    "#Convierto Ambientes a int "
   ]
  },
  {
   "cell_type": "code",
   "execution_count": null,
   "metadata": {},
   "outputs": [],
   "source": [
    "data['Ambientes']=data['Ambientes'].astype(int)"
   ]
  },
  {
   "cell_type": "code",
   "execution_count": null,
   "metadata": {},
   "outputs": [],
   "source": [
    "#elimino las columnas de calculo"
   ]
  },
  {
   "cell_type": "code",
   "execution_count": null,
   "metadata": {},
   "outputs": [],
   "source": [
    "data = data.drop('title_dato', 1)\n",
    "data = data.drop('title_dato1', 1)\n",
    "data = data.drop('description_dato', 1)\n",
    "data = data.drop('description_dato1', 1)"
   ]
  },
  {
   "cell_type": "code",
   "execution_count": null,
   "metadata": {},
   "outputs": [],
   "source": [
    "#FIN AMBIENTES"
   ]
  },
  {
   "cell_type": "code",
   "execution_count": 5,
   "metadata": {},
   "outputs": [],
   "source": [
    "# Detectar dptos a pozo para eliminar del análisis - Juan\n",
    "patron = r'(pozo|cuota|proyec|emprendim)'\n",
    "regex = re.compile(patron, flags=re.IGNORECASE)\n",
    "data[\"pozo\"] = 1 * data.description.apply(lambda x: bool(regex.search(str(x))))\n",
    "\n",
    "# Y con esto los elimino\n",
    "data = data[data.pozo == 0]\n",
    "data = data.drop(['pozo'], axis = 1)"
   ]
  },
  {
   "cell_type": "code",
   "execution_count": 6,
   "metadata": {},
   "outputs": [
    {
     "data": {
      "text/plain": [
       "pileta        25811\n",
       "amenities     18293\n",
       "a estrenar     9323\n",
       "subte          5640\n",
       "cochera       40946\n",
       "dtype: int64"
      ]
     },
     "execution_count": 6,
     "metadata": {},
     "output_type": "execute_result"
    }
   ],
   "source": [
    "# Agregar dummies de características que puedan influenciar (ammenities, cochera, etc.) - Juan\n",
    "patron = r'(pileta|pisci)'\n",
    "regex = re.compile(patron, flags=re.IGNORECASE)\n",
    "data[\"pileta\"] = 1 * data.description.apply(lambda x: bool(regex.search(str(x))))\n",
    "\n",
    "patron = r'(ameni|gimn|gym|laundry|sum|usos mult|solarium)'\n",
    "regex = re.compile(patron, flags=re.IGNORECASE)\n",
    "data[\"amenities\"] = 1 * data.description.apply(lambda x: bool(regex.search(str(x))))\n",
    "\n",
    "patron = r'(estre)'\n",
    "regex = re.compile(patron, flags=re.IGNORECASE)\n",
    "data[\"a estrenar\"] = 1 * data.description.apply(lambda x: bool(regex.search(str(x))))\n",
    "\n",
    "patron = r'(subte)'\n",
    "regex = re.compile(patron, flags=re.IGNORECASE)\n",
    "data[\"subte\"] = 1 * data.description.apply(lambda x: bool(regex.search(str(x))))\n",
    "\n",
    "patron = r'(garage|cocher)'\n",
    "regex = re.compile(patron, flags=re.IGNORECASE)\n",
    "data[\"cochera\"] = 1 * data.description.apply(lambda x: bool(regex.search(str(x))))\n",
    "\n",
    "# Contar casos de cada una de las características\n",
    "\n",
    "data.loc[:,'pileta':'cochera'].sum()"
   ]
  },
  {
   "cell_type": "code",
   "execution_count": null,
   "metadata": {},
   "outputs": [],
   "source": [
    "# Agregar variables geográficas (distancias a subtes, comisarías, escuelas, etc.) - Santi (sólo si hay tiempo)"
   ]
  },
  {
   "cell_type": "code",
   "execution_count": 7,
   "metadata": {},
   "outputs": [],
   "source": [
    "# Crear nuevas columnas de precio x m2 y x m2 cubierto a partir de la nueva info - Juan\n",
    "# Pongo la cuenta con las varaibles actuales, cuando creemos los nuevos campos hay que cambiarles el nombre\n",
    "data[\"USD_por_m2_total\"] = data['price_aprox_usd'] / data['surface_total_in_m2']\n",
    "data[\"USD_por_m2_cubierto\"] = data['price_aprox_usd'] / data['surface_covered_in_m2']"
   ]
  },
  {
   "cell_type": "code",
   "execution_count": null,
   "metadata": {},
   "outputs": [],
   "source": [
    "# Algún tratamiento de outlyers?\n",
    "\n",
    "#Devuelve como queda distribuida la base mirando PRECIO EN DOLARES\n",
    "#data.price_aprox_usd.describe().astype(int)\n",
    "#Devuelve como queda distribuida la base mirando PRECIO EN DOLARES tomando 2 desvidos standard\n",
    "#data[np.abs(data.price_aprox_usd-data.price_aprox_usd.mean()) <= (2*data.price_aprox_usd.std())].price_aprox_usd.describe().astype(int)\n",
    "#Filtrar a aquellos que quedan mas alla de 2 desvios standard. OJO QUE AL EJECUTAR PISA EL DATAFRAME\n",
    "data = data[np.abs(data.price_aprox_usd-data.price_aprox_usd.mean()) <= (2*data.price_aprox_usd.std())]"
   ]
  },
  {
   "cell_type": "code",
   "execution_count": null,
   "metadata": {},
   "outputs": [],
   "source": [
    "# Borramos columnas que ya no necesitamos \n",
    "\"\"\" del data['place_name']\n",
    "del data['place_with_parent_names']\n",
    "del data['country_name']\n",
    "del data['state_name']\n",
    "del data['geonames_id']\n",
    "del data['operation']\n",
    "\"\"\""
   ]
  },
  {
   "cell_type": "code",
   "execution_count": 8,
   "metadata": {},
   "outputs": [],
   "source": [
    "#Crear y guardar la info en un nuevo csv\n",
    "data.to_csv(\"./DATA/properattilimpio.csv\")"
   ]
  }
 ],
 "metadata": {
  "kernelspec": {
   "display_name": "Python 3",
   "language": "python",
   "name": "python3"
  },
  "language_info": {
   "codemirror_mode": {
    "name": "ipython",
    "version": 3
   },
   "file_extension": ".py",
   "mimetype": "text/x-python",
   "name": "python",
   "nbconvert_exporter": "python",
   "pygments_lexer": "ipython3",
   "version": "3.6.5"
  }
 },
 "nbformat": 4,
 "nbformat_minor": 2
}
