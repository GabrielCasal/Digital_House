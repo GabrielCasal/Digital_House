{
 "cells": [
  {
   "cell_type": "code",
   "execution_count": 1,
   "metadata": {},
   "outputs": [],
   "source": [
    "# Importar librerias\n",
    "import numpy as np\n",
    "import pandas as pd\n",
    "import re\n",
    "% matplotlib inline\n",
    "import matplotlib\n",
    "import matplotlib.pyplot as plt\n",
    "from sklearn import linear_model\n",
    "from scipy import stats\n",
    "import seaborn as sns\n",
    "from sklearn.model_selection import train_test_split, KFold, cross_val_score\n",
    "from sklearn.linear_model import LinearRegression, Lasso, LassoCV, Ridge, RidgeCV\n",
    "from sklearn.preprocessing import PolynomialFeatures, StandardScaler\n",
    "from sklearn.metrics import mean_squared_error, r2_score"
   ]
  },
  {
   "cell_type": "code",
   "execution_count": 2,
   "metadata": {},
   "outputs": [],
   "source": [
    "data = pd.read_csv(\"./DATA/properattilimpio.csv\")"
   ]
  },
  {
   "cell_type": "code",
   "execution_count": 3,
   "metadata": {},
   "outputs": [
    {
     "data": {
      "text/plain": [
       "3112"
      ]
     },
     "execution_count": 3,
     "metadata": {},
     "output_type": "execute_result"
    }
   ],
   "source": [
    "filtro = data['BARRIO'].isin(['Palermo','Palermo Soho','Belgrano'])\n",
    "data = data[filtro]\n",
    "data = data[(data['TIPO_PROPIEDAD'] == 'apartment')]\n",
    "3112# registros"
   ]
  },
  {
   "cell_type": "code",
   "execution_count": 28,
   "metadata": {},
   "outputs": [],
   "source": [
    "data_aux = data[[ 'surface_total_in_m2','Ambientes', 'pileta', 'amenities',\n",
    "       'gimnasio', 'laundry', 'sum', 'solarium', 'parrilla', 'a estrenar',\n",
    "       'subte', 'cochera']]"
   ]
  },
  {
   "cell_type": "code",
   "execution_count": 29,
   "metadata": {},
   "outputs": [
    {
     "name": "stdout",
     "output_type": "stream",
     "text": [
      "(2178, 12) (2178,)\n",
      "(934, 12) (934,)\n"
     ]
    }
   ],
   "source": [
    "X_train, X_test, y_train, y_test = train_test_split(data_aux, data.price_usd_per_m2, test_size=0.3, random_state=53)\n",
    "print(X_train.shape, y_train.shape)\n",
    "print(X_test.shape, y_test.shape)"
   ]
  },
  {
   "cell_type": "code",
   "execution_count": 30,
   "metadata": {},
   "outputs": [
    {
     "name": "stdout",
     "output_type": "stream",
     "text": [
      "Regresión Mínimos Cuadrados Ordinarios\n",
      "Coeficientes: [  -0.47252179    2.85173274  317.71371956  125.79430697  375.41497717\n",
      "  195.0007176  -188.78105267 -106.42145925 -172.30903851  261.12909258\n",
      " -221.74687254  260.20667747]\n",
      "Residual sum of squares: 472305.07\n",
      "Varianza explicada: 0.20\n",
      "\n",
      "Regresión Ridge\n",
      "Coeficientes: [  -0.4713046     2.75705432  306.82429154  127.5678219   363.94468667\n",
      "  175.10071496 -164.84310911  -90.38795553 -162.30714863  249.25588652\n",
      " -215.61289142  258.11801778]\n",
      "Residual sum of squares: 472748.21\n",
      "Varianza explicada: 0.20\n",
      "\n",
      "Regresión Lasso\n",
      "Coeficientes: [  -0.47319334    2.77278661  316.37050338  124.93292308  374.95277719\n",
      "  189.48187754 -183.75758453 -102.19698266 -170.42488024  259.56535857\n",
      " -220.82800472  259.87513755]\n",
      "Residual sum of squares: 472399.64\n",
      "Varianza explicada: 0.20\n",
      "\n"
     ]
    }
   ],
   "source": [
    "\n",
    "regr = linear_model.LinearRegression()\n",
    "regr2=linear_model.LassoCV(cv=20).fit(X_train, y_train)\n",
    "regr3=linear_model.RidgeCV(alphas=[0.1,0.2,0.5,0.7,1.0,1.5,3.0,5.0,7.0,10.0])\n",
    "#np.size(y_train = Boston.target[:405])\n",
    "regr.fit(X_train, y_train)\n",
    "regr3.fit(X_train,y_train)\n",
    "\n",
    "print ('Regresión Mínimos Cuadrados Ordinarios')\n",
    "#Coeficiente\n",
    "print('Coeficientes:',regr.coef_)\n",
    "# MSE \n",
    "print(\"Residual sum of squares: %.2f\"\n",
    " % np.mean((regr.predict(X_test) - y_test) ** 2))\n",
    "# Varianza explicada\n",
    "print('Varianza explicada: %.2f\\n' % regr.score(X_train, y_train))\n",
    "\n",
    "\n",
    "print ('Regresión Ridge')\n",
    "# Coeficientes\n",
    "print('Coeficientes:', regr3.coef_)\n",
    "# MSE\n",
    "print(\"Residual sum of squares: %.2f\"\n",
    " % np.mean((regr3.predict(X_test) - y_test) ** 2))\n",
    "# Varianza Explicada\n",
    "print('Varianza explicada: %.2f\\n' % regr3.score(X_train, y_train))\n",
    "\n",
    "\n",
    "print ('Regresión Lasso' )\n",
    "# Coeficiente\n",
    "print ('Coeficientes:', regr2.coef_)\n",
    "# MSE\n",
    "print(\"Residual sum of squares: %.2f\"\n",
    " % np.mean((regr2.predict(X_test) - y_test) ** 2))\n",
    "# Varianza Explicada\n",
    "print('Varianza explicada: %.2f\\n' % regr2.score(X_train, y_train))"
   ]
  },
  {
   "cell_type": "code",
   "execution_count": null,
   "metadata": {},
   "outputs": [],
   "source": []
  }
 ],
 "metadata": {
  "kernelspec": {
   "display_name": "Python 3",
   "language": "python",
   "name": "python3"
  },
  "language_info": {
   "codemirror_mode": {
    "name": "ipython",
    "version": 3
   },
   "file_extension": ".py",
   "mimetype": "text/x-python",
   "name": "python",
   "nbconvert_exporter": "python",
   "pygments_lexer": "ipython3",
   "version": "3.6.5"
  }
 },
 "nbformat": 4,
 "nbformat_minor": 2
}
