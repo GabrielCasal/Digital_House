{
 "cells": [
  {
   "cell_type": "markdown",
   "metadata": {},
   "source": [
    "# Carga y Limpieza de Datos"
   ]
  },
  {
   "cell_type": "code",
   "execution_count": 1,
   "metadata": {},
   "outputs": [],
   "source": [
    "# Importo paquetes\n",
    "\n",
    "import numpy as np\n",
    "import pandas as pd\n",
    "import seaborn as sn\n",
    "import matplotlib.pyplot as plt\n",
    "%matplotlib inline\n",
    "\n",
    "from scipy import sparse"
   ]
  },
  {
   "cell_type": "code",
   "execution_count": 2,
   "metadata": {},
   "outputs": [],
   "source": [
    "X_train = sparse.load_npz(\"./Data/X_train_BoW.npz\")\n",
    "X_test = sparse.load_npz(\"./Data/X_test_BoW.npz\")\n",
    "y_train = pd.read_csv(\"./Data/y_train.csv\", header=None)\n",
    "y_test = pd.read_csv(\"./Data/y_test.csv\", header=None)"
   ]
  },
  {
   "cell_type": "code",
   "execution_count": 3,
   "metadata": {},
   "outputs": [],
   "source": [
    "y_train = y_train[0]\n",
    "y_test = y_test[0]"
   ]
  },
  {
   "cell_type": "code",
   "execution_count": 10,
   "metadata": {},
   "outputs": [
    {
     "data": {
      "text/plain": [
       "<1424931x34378 sparse matrix of type '<class 'numpy.int64'>'\n",
       "\twith 5064539 stored elements in Compressed Sparse Row format>"
      ]
     },
     "execution_count": 10,
     "metadata": {},
     "output_type": "execute_result"
    }
   ],
   "source": [
    "X_train"
   ]
  },
  {
   "cell_type": "markdown",
   "metadata": {},
   "source": [
    "# Modelado"
   ]
  },
  {
   "cell_type": "code",
   "execution_count": 5,
   "metadata": {},
   "outputs": [],
   "source": [
    "from sklearn.naive_bayes import BernoulliNB\n",
    "from sklearn.linear_model import LogisticRegression\n",
    "from sklearn.model_selection import cross_val_score, GridSearchCV, RandomizedSearchCV\n",
    "from sklearn.tree import DecisionTreeClassifier\n",
    "from sklearn.ensemble import RandomForestClassifier, ExtraTreesClassifier, BaggingClassifier, AdaBoostClassifier\n",
    "from sklearn.metrics import confusion_matrix, recall_score, accuracy_score, precision_score, roc_curve, roc_auc_score, auc\n",
    "from xgboost.sklearn import XGBClassifier\n",
    "import lightgbm as lgb\n",
    "import scipy.stats as st\n",
    "from sklearn.externals import joblib"
   ]
  },
  {
   "cell_type": "code",
   "execution_count": 6,
   "metadata": {},
   "outputs": [],
   "source": [
    "params = {\"n_estimators\": st.randint(500, 2000), # Number of boosted trees to fit.\n",
    "            \"max_depth\": st.randint(5, 20),     # Maximum tree depth for base learners.\n",
    "            \"learning_rate\": st.uniform(0.05, 0.4), #     Boosting learning rate (xgb’s “eta”)\n",
    "            \"colsample_bytree\": st.beta(10, 1), #     Subsample ratio of columns when constructing each tree.\n",
    "            \"subsample\": st.beta(10, 1),     # Subsample ratio of the training instance.\n",
    "            \"gamma\": st.uniform(0, 10), #     Minimum loss reduction required to make a further partition on a leaf node of the tree.\n",
    "            'reg_alpha': st.uniform(0.05,10),   # L1 regularization term on weights\n",
    "            \"min_child_weight\": st.uniform(1,20), #    Minimum sum of instance weight(hessian) needed in a child.\n",
    "          }"
   ]
  },
  {
   "cell_type": "code",
   "execution_count": 7,
   "metadata": {},
   "outputs": [
    {
     "name": "stdout",
     "output_type": "stream",
     "text": [
      "RandomizedSearchCV(cv=3, error_score='raise-deprecating',\n",
      "          estimator=LGBMClassifier(boosting_type='gbdt', class_weight=None, colsample_bytree=1.0,\n",
      "        importance_type='split', learning_rate=0.1, max_depth=-1,\n",
      "        min_child_samples=20, min_child_weight=0.001, min_split_gain=0.0,\n",
      "        n_estimators=100, n_jobs=-1, num_leaves=31, objective=None,\n",
      "        random_state=None, reg_alpha=0.0, reg_lambda=0.0, silent=True,\n",
      "        subsample=1.0, subsample_for_bin=200000, subsample_freq=0),\n",
      "          fit_params=None, iid='warn', n_iter=20, n_jobs=-1,\n",
      "          param_distributions={'n_estimators': <scipy.stats._distn_infrastructure.rv_frozen object at 0x0000010D250DFB38>, 'max_depth': <scipy.stats._distn_infrastructure.rv_frozen object at 0x0000010D250DFDA0>, 'learning_rate': <scipy.stats._distn_infrastructure.rv_frozen object at 0x0000010D250FF048>, 'cols...A0>, 'min_child_weight': <scipy.stats._distn_infrastructure.rv_frozen object at 0x0000010D250FFC88>},\n",
      "          pre_dispatch='2*n_jobs', random_state=1, refit=True,\n",
      "          return_train_score='warn', scoring='roc_auc', verbose=10)\n",
      "Fitting 3 folds for each of 20 candidates, totalling 60 fits\n"
     ]
    },
    {
     "name": "stderr",
     "output_type": "stream",
     "text": [
      "[Parallel(n_jobs=-1)]: Using backend LokyBackend with 8 concurrent workers.\n",
      "[Parallel(n_jobs=-1)]: Done   2 tasks      | elapsed: 30.9min\n",
      "[Parallel(n_jobs=-1)]: Done   9 tasks      | elapsed: 49.7min\n",
      "[Parallel(n_jobs=-1)]: Done  16 tasks      | elapsed: 75.9min\n",
      "[Parallel(n_jobs=-1)]: Done  25 tasks      | elapsed: 90.7min\n",
      "[Parallel(n_jobs=-1)]: Done  34 tasks      | elapsed: 112.4min\n",
      "[Parallel(n_jobs=-1)]: Done  45 tasks      | elapsed: 139.7min\n",
      "[Parallel(n_jobs=-1)]: Done  52 out of  60 | elapsed: 153.0min remaining: 23.5min\n",
      "[Parallel(n_jobs=-1)]: Done  60 out of  60 | elapsed: 156.7min finished\n"
     ]
    }
   ],
   "source": [
    "model = RandomizedSearchCV(lgb.LGBMClassifier(), params, n_iter = 20, scoring='roc_auc', verbose= 10, n_jobs=-1, cv=3, random_state=1)\n",
    "print (model)\n",
    "result = model.fit(X_train.astype('float32'), y_train.astype('float32'))"
   ]
  },
  {
   "cell_type": "code",
   "execution_count": 11,
   "metadata": {
    "scrolled": true
   },
   "outputs": [
    {
     "name": "stdout",
     "output_type": "stream",
     "text": [
      "Mejor Modelo:  LGBMClassifier(boosting_type='gbdt', class_weight=None,\n",
      "        colsample_bytree=0.814884396584042, gamma=1.954294811093188,\n",
      "        importance_type='split', learning_rate=0.2825435709093031,\n",
      "        max_depth=8, min_child_samples=20,\n",
      "        min_child_weight=2.0003617177648527, min_split_gain=0.0,\n",
      "        n_estimators=1378, n_jobs=-1, num_leaves=31, objective=None,\n",
      "        random_state=None, reg_alpha=2.4484775914758616, reg_lambda=0.0,\n",
      "        silent=True, subsample=0.916937654241792, subsample_for_bin=200000,\n",
      "        subsample_freq=0)\n",
      "AUC:  0.8418150792578332\n",
      "Matriz de Confusión:\n",
      " [[600743    767]\n",
      " [ 18890    973]]\n",
      "Accuracy:  0.9683652170274537\n",
      "Recall:  0.048985551024517945\n",
      "Precision:  0.5591954022988506 \n",
      "\n"
     ]
    }
   ],
   "source": [
    "print (\"Mejor Modelo: \",result.best_estimator_)\n",
    "print (\"AUC: \",result.best_score_)\n",
    "y_pred = result.predict(X_test.astype('float32'))\n",
    "print (\"Matriz de Confusión:\\n\",confusion_matrix(y_test, y_pred))\n",
    "print (\"Accuracy: \",accuracy_score(y_test, y_pred))\n",
    "print (\"Recall: \",recall_score(y_test, y_pred))\n",
    "print (\"Precision: \",precision_score(y_test, y_pred),\"\\n\")\n",
    "y_probs = result.predict_proba(X_test.astype('float32'))[:,1]"
   ]
  },
  {
   "cell_type": "code",
   "execution_count": 13,
   "metadata": {},
   "outputs": [
    {
     "data": {
      "image/png": "[encoded data removed]",
      "text/plain": [
       "<Figure size 432x288 with 1 Axes>"
      ]
     },
     "metadata": {},
     "output_type": "display_data"
    }
   ],
   "source": [
    "fpr_LB,tpr_LB,thr_LB = roc_curve(y_test, y_probs)\n",
    "\n",
    "plt.axis([0, 1.01, 0, 1.01])\n",
    "plt.xlabel('1 - Specificty')\n",
    "plt.ylabel('TPR / Sensitivity')\n",
    "plt.title('ROC Curve')\n",
    "plt.plot(fpr_LB,tpr_LB)\n",
    "plt.plot(np.arange(0,1, step =0.01), np.arange(0,1, step =0.01))\n",
    "plt.legend(['LB'])\n",
    "plt.show()"
   ]
  },
  {
   "cell_type": "code",
   "execution_count": 14,
   "metadata": {},
   "outputs": [
    {
     "name": "stdout",
     "output_type": "stream",
     "text": [
      "AUC-LB= 0.8330158317697621\n"
     ]
    }
   ],
   "source": [
    "print('AUC-LB=', auc(fpr_LB, tpr_LB))"
   ]
  },
  {
   "cell_type": "code",
   "execution_count": 16,
   "metadata": {},
   "outputs": [
    {
     "data": {
      "text/plain": [
       "['./Modelos/BoW/BoW_LGBM_optimizado.sav']"
      ]
     },
     "execution_count": 16,
     "metadata": {},
     "output_type": "execute_result"
    }
   ],
   "source": [
    "joblib.dump(result, './Modelos/BoW/BoW_LGBM_optimizado.sav')"
   ]
  },
  {
   "cell_type": "code",
   "execution_count": null,
   "metadata": {},
   "outputs": [],
   "source": []
  }
 ],
 "metadata": {
  "kernelspec": {
   "display_name": "Python 3",
   "language": "python",
   "name": "python3"
  },
  "language_info": {
   "codemirror_mode": {
    "name": "ipython",
    "version": 3
   },
   "file_extension": ".py",
   "mimetype": "text/x-python",
   "name": "python",
   "nbconvert_exporter": "python",
   "pygments_lexer": "ipython3",
   "version": "3.6.5"
  }
 },
 "nbformat": 4,
 "nbformat_minor": 2
}
