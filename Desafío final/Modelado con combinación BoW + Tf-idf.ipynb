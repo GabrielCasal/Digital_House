{
 "cells": [
  {
   "cell_type": "markdown",
   "metadata": {},
   "source": [
    "# Modelo con los modelos obtenidos con BoW"
   ]
  },
  {
   "cell_type": "code",
   "execution_count": 1,
   "metadata": {},
   "outputs": [],
   "source": [
    "import numpy as np\n",
    "import pandas as pd\n",
    "import seaborn as sn\n",
    "import matplotlib.pyplot as plt\n",
    "\n",
    "from sklearn.naive_bayes import BernoulliNB\n",
    "from sklearn.linear_model import LogisticRegression\n",
    "from sklearn.model_selection import cross_val_score, GridSearchCV, RandomizedSearchCV\n",
    "from sklearn.metrics import confusion_matrix, recall_score, accuracy_score, precision_score, roc_curve, roc_auc_score, auc\n",
    "import scipy.stats as st\n",
    "from sklearn.externals import joblib\n",
    "from sklearn.preprocessing import StandardScaler\n",
    "\n",
    "from scipy import sparse"
   ]
  },
  {
   "cell_type": "code",
   "execution_count": 2,
   "metadata": {},
   "outputs": [],
   "source": [
    "X_train = sparse.load_npz(\"./Data/X_train_BoW.npz\")\n",
    "X_test = sparse.load_npz(\"./Data/X_test_BoW.npz\")\n",
    "y_train = pd.read_csv(\"./Data/y_train.csv\", header=None)\n",
    "y_test = pd.read_csv(\"./Data/y_test.csv\", header=None)"
   ]
  },
  {
   "cell_type": "code",
   "execution_count": 3,
   "metadata": {},
   "outputs": [],
   "source": [
    "y_train = y_train[0]\n",
    "y_test = y_test[0]"
   ]
  },
  {
   "cell_type": "code",
   "execution_count": 4,
   "metadata": {},
   "outputs": [],
   "source": [
    "BoW_NB = joblib.load('./Modelos/BoW/BoW_NB.sav')\n",
    "BoW_LR = joblib.load('./Modelos/BoW/BoW_LR.sav')\n",
    "BoW_RF = joblib.load('./Modelos/BoW/BoW_RF.sav')\n",
    "BoW_AB = joblib.load('./Modelos/BoW/BoW_AB.sav')\n",
    "BoW_XGB = joblib.load('./Modelos/BoW/BoW_XGB.sav')\n",
    "BoW_LGBM = joblib.load('./Modelos/BoW/BoW_LGBM_optimizado.sav')"
   ]
  },
  {
   "cell_type": "code",
   "execution_count": 5,
   "metadata": {},
   "outputs": [],
   "source": [
    "X_train_probas = pd.DataFrame()\n",
    "X_test_probas = pd.DataFrame()"
   ]
  },
  {
   "cell_type": "code",
   "execution_count": 6,
   "metadata": {
    "scrolled": true
   },
   "outputs": [],
   "source": [
    "X_train_probas['BoW_NB'] = BoW_NB.predict_proba(X_train)[:,1]\n",
    "X_train_probas['BoW_LR'] = BoW_LR.predict_proba(X_train)[:,1]\n",
    "X_train_probas['BoW_RF'] = BoW_RF.predict_proba(X_train)[:,1]\n",
    "X_train_probas['BoW_AB'] = BoW_AB.predict_proba(X_train)[:,1]\n",
    "X_train_probas['BoW_XGB'] = BoW_XGB.predict_proba(X_train.astype('float32'))[:,1]\n",
    "X_train_probas['BoW_LGBM'] = BoW_LGBM.predict_proba(X_train.astype('float32'))[:,1]"
   ]
  },
  {
   "cell_type": "code",
   "execution_count": 7,
   "metadata": {},
   "outputs": [],
   "source": [
    "X_test_probas['BoW_NB'] = BoW_NB.predict_proba(X_test)[:,1]\n",
    "X_test_probas['BoW_LR'] = BoW_LR.predict_proba(X_test)[:,1]\n",
    "X_test_probas['BoW_RF'] = BoW_RF.predict_proba(X_test)[:,1]\n",
    "X_test_probas['BoW_AB'] = BoW_AB.predict_proba(X_test)[:,1]\n",
    "X_test_probas['BoW_XGB'] = BoW_XGB.predict_proba(X_test.astype('float32'))[:,1]\n",
    "X_test_probas['BoW_LGBM'] = BoW_LGBM.predict_proba(X_test.astype('float32'))[:,1]"
   ]
  },
  {
   "cell_type": "code",
   "execution_count": 8,
   "metadata": {
    "scrolled": true
   },
   "outputs": [
    {
     "data": {
      "text/html": [
       "<div>\n",
       "<style scoped>\n",
       "    .dataframe tbody tr th:only-of-type {\n",
       "        vertical-align: middle;\n",
       "    }\n",
       "\n",
       "    .dataframe tbody tr th {\n",
       "        vertical-align: top;\n",
       "    }\n",
       "\n",
       "    .dataframe thead th {\n",
       "        text-align: right;\n",
       "    }\n",
       "</style>\n",
       "<table border=\"1\" class=\"dataframe\">\n",
       "  <thead>\n",
       "    <tr style=\"text-align: right;\">\n",
       "      <th></th>\n",
       "      <th>BoW_NB</th>\n",
       "      <th>BoW_LR</th>\n",
       "      <th>BoW_RF</th>\n",
       "      <th>BoW_AB</th>\n",
       "      <th>BoW_XGB</th>\n",
       "      <th>BoW_LGBM</th>\n",
       "    </tr>\n",
       "  </thead>\n",
       "  <tbody>\n",
       "    <tr>\n",
       "      <th>613010</th>\n",
       "      <td>0.148244</td>\n",
       "      <td>0.089172</td>\n",
       "      <td>0.513614</td>\n",
       "      <td>0.492603</td>\n",
       "      <td>0.078594</td>\n",
       "      <td>0.085909</td>\n",
       "    </tr>\n",
       "    <tr>\n",
       "      <th>527944</th>\n",
       "      <td>0.028984</td>\n",
       "      <td>0.029481</td>\n",
       "      <td>0.502285</td>\n",
       "      <td>0.489783</td>\n",
       "      <td>0.025035</td>\n",
       "      <td>0.025592</td>\n",
       "    </tr>\n",
       "    <tr>\n",
       "      <th>894990</th>\n",
       "      <td>0.006164</td>\n",
       "      <td>0.004080</td>\n",
       "      <td>0.478708</td>\n",
       "      <td>0.485026</td>\n",
       "      <td>0.006070</td>\n",
       "      <td>0.003948</td>\n",
       "    </tr>\n",
       "    <tr>\n",
       "      <th>168422</th>\n",
       "      <td>0.000094</td>\n",
       "      <td>0.000715</td>\n",
       "      <td>0.445028</td>\n",
       "      <td>0.436855</td>\n",
       "      <td>0.002945</td>\n",
       "      <td>0.000995</td>\n",
       "    </tr>\n",
       "    <tr>\n",
       "      <th>1229561</th>\n",
       "      <td>0.028984</td>\n",
       "      <td>0.029481</td>\n",
       "      <td>0.502285</td>\n",
       "      <td>0.489783</td>\n",
       "      <td>0.025035</td>\n",
       "      <td>0.025592</td>\n",
       "    </tr>\n",
       "  </tbody>\n",
       "</table>\n",
       "</div>"
      ],
      "text/plain": [
       "           BoW_NB    BoW_LR    BoW_RF    BoW_AB   BoW_XGB  BoW_LGBM\n",
       "613010   0.148244  0.089172  0.513614  0.492603  0.078594  0.085909\n",
       "527944   0.028984  0.029481  0.502285  0.489783  0.025035  0.025592\n",
       "894990   0.006164  0.004080  0.478708  0.485026  0.006070  0.003948\n",
       "168422   0.000094  0.000715  0.445028  0.436855  0.002945  0.000995\n",
       "1229561  0.028984  0.029481  0.502285  0.489783  0.025035  0.025592"
      ]
     },
     "execution_count": 8,
     "metadata": {},
     "output_type": "execute_result"
    }
   ],
   "source": [
    "X_train_probas.sample(5)"
   ]
  },
  {
   "cell_type": "code",
   "execution_count": 9,
   "metadata": {},
   "outputs": [
    {
     "data": {
      "text/plain": [
       "BoW_NB      float64\n",
       "BoW_LR      float64\n",
       "BoW_RF      float64\n",
       "BoW_AB      float64\n",
       "BoW_XGB     float32\n",
       "BoW_LGBM    float64\n",
       "dtype: object"
      ]
     },
     "execution_count": 9,
     "metadata": {},
     "output_type": "execute_result"
    }
   ],
   "source": [
    "X_test_probas.dtypes"
   ]
  },
  {
   "cell_type": "code",
   "execution_count": 10,
   "metadata": {},
   "outputs": [
    {
     "name": "stderr",
     "output_type": "stream",
     "text": [
      "C:\\Users\\juan\\Anaconda3\\lib\\site-packages\\sklearn\\preprocessing\\data.py:617: DataConversionWarning: Data with input dtype float32, float64 were all converted to float64 by StandardScaler.\n",
      "  return self.partial_fit(X, y)\n",
      "C:\\Users\\juan\\Anaconda3\\lib\\site-packages\\sklearn\\base.py:462: DataConversionWarning: Data with input dtype float32, float64 were all converted to float64 by StandardScaler.\n",
      "  return self.fit(X, **fit_params).transform(X)\n",
      "C:\\Users\\juan\\Anaconda3\\lib\\site-packages\\ipykernel_launcher.py:3: DataConversionWarning: Data with input dtype float32, float64 were all converted to float64 by StandardScaler.\n",
      "  This is separate from the ipykernel package so we can avoid doing imports until\n"
     ]
    }
   ],
   "source": [
    "se = StandardScaler()\n",
    "X_train_probas = se.fit_transform(X_train_probas)\n",
    "X_test_probas = se.transform(X_test_probas)"
   ]
  },
  {
   "cell_type": "code",
   "execution_count": 11,
   "metadata": {},
   "outputs": [],
   "source": [
    "params = {'C': [0.001, 0.01, 0.1, 1, 10, 100, 1000] }"
   ]
  },
  {
   "cell_type": "code",
   "execution_count": 12,
   "metadata": {},
   "outputs": [
    {
     "name": "stdout",
     "output_type": "stream",
     "text": [
      "GridSearchCV(cv=3, error_score='raise-deprecating',\n",
      "       estimator=LogisticRegression(C=1.0, class_weight=None, dual=False, fit_intercept=True,\n",
      "          intercept_scaling=1, max_iter=100, multi_class='warn',\n",
      "          n_jobs=None, penalty='l2', random_state=None, solver='warn',\n",
      "          tol=0.0001, verbose=0, warm_start=False),\n",
      "       fit_params=None, iid='warn', n_jobs=-1,\n",
      "       param_grid={'C': [0.001, 0.01, 0.1, 1, 10, 100, 1000]},\n",
      "       pre_dispatch='2*n_jobs', refit=True, return_train_score='warn',\n",
      "       scoring='roc_auc', verbose=10)\n",
      "Fitting 3 folds for each of 7 candidates, totalling 21 fits\n"
     ]
    },
    {
     "name": "stderr",
     "output_type": "stream",
     "text": [
      "[Parallel(n_jobs=-1)]: Using backend LokyBackend with 8 concurrent workers.\n",
      "[Parallel(n_jobs=-1)]: Done   2 tasks      | elapsed:   14.4s\n",
      "[Parallel(n_jobs=-1)]: Done   9 out of  21 | elapsed:   32.1s remaining:   42.8s\n",
      "[Parallel(n_jobs=-1)]: Done  12 out of  21 | elapsed:   36.8s remaining:   27.6s\n",
      "[Parallel(n_jobs=-1)]: Done  15 out of  21 | elapsed:   40.8s remaining:   16.3s\n",
      "[Parallel(n_jobs=-1)]: Done  18 out of  21 | elapsed:   49.9s remaining:    8.2s\n",
      "[Parallel(n_jobs=-1)]: Done  21 out of  21 | elapsed:   50.9s remaining:    0.0s\n",
      "[Parallel(n_jobs=-1)]: Done  21 out of  21 | elapsed:   50.9s finished\n",
      "C:\\Users\\juan\\Anaconda3\\lib\\site-packages\\sklearn\\linear_model\\logistic.py:432: FutureWarning: Default solver will be changed to 'lbfgs' in 0.22. Specify a solver to silence this warning.\n",
      "  FutureWarning)\n"
     ]
    }
   ],
   "source": [
    "model = GridSearchCV(LogisticRegression(), params, scoring='roc_auc', verbose= 10, n_jobs=-1, cv=3)\n",
    "print (model)\n",
    "result = model.fit(X_train_probas, y_train)"
   ]
  },
  {
   "cell_type": "code",
   "execution_count": 13,
   "metadata": {},
   "outputs": [
    {
     "name": "stdout",
     "output_type": "stream",
     "text": [
      "Mejor Modelo:  LogisticRegression(C=10, class_weight=None, dual=False, fit_intercept=True,\n",
      "          intercept_scaling=1, max_iter=100, multi_class='warn',\n",
      "          n_jobs=None, penalty='l2', random_state=None, solver='warn',\n",
      "          tol=0.0001, verbose=0, warm_start=False)\n",
      "AUC:  0.8899694941870694\n",
      "Matriz de Confusión:\n",
      " [[599704   1806]\n",
      " [ 18272   1591]]\n",
      "Accuracy:  0.9676876851746052\n",
      "Recall:  0.08009867593012134\n",
      "Precision:  0.46835443037974683 \n",
      "\n"
     ]
    }
   ],
   "source": [
    "print (\"Mejor Modelo: \",result.best_estimator_)\n",
    "print (\"AUC: \",result.best_score_)\n",
    "y_pred = result.predict(X_test_probas)\n",
    "print (\"Matriz de Confusión:\\n\",confusion_matrix(y_test, y_pred))\n",
    "print (\"Accuracy: \",accuracy_score(y_test, y_pred))\n",
    "print (\"Recall: \",recall_score(y_test, y_pred))\n",
    "print (\"Precision: \",precision_score(y_test, y_pred),\"\\n\")\n",
    "y_probs = result.predict_proba(X_test_probas)[:,1]"
   ]
  },
  {
   "cell_type": "code",
   "execution_count": 14,
   "metadata": {},
   "outputs": [
    {
     "data": {
      "image/png": "[encoded data removed]",
      "text/plain": [
       "<Figure size 432x288 with 1 Axes>"
      ]
     },
     "metadata": {},
     "output_type": "display_data"
    }
   ],
   "source": [
    "fpr_log,tpr_log,thr_log = roc_curve(y_test, y_probs)\n",
    "\n",
    "plt.axis([0, 1.01, 0, 1.01])\n",
    "plt.xlabel('1 - Specificty')\n",
    "plt.ylabel('TPR / Sensitivity')\n",
    "plt.title('ROC Curve')\n",
    "plt.plot(fpr_log,tpr_log)\n",
    "plt.plot(np.arange(0,1, step =0.01), np.arange(0,1, step =0.01))\n",
    "plt.legend(['Logit'])\n",
    "plt.show()"
   ]
  },
  {
   "cell_type": "code",
   "execution_count": 15,
   "metadata": {},
   "outputs": [
    {
     "name": "stdout",
     "output_type": "stream",
     "text": [
      "AUC-Logit= 0.8401065055517913\n"
     ]
    }
   ],
   "source": [
    "print('AUC-Logit=', auc(fpr_log, tpr_log))"
   ]
  },
  {
   "cell_type": "code",
   "execution_count": 16,
   "metadata": {},
   "outputs": [
    {
     "data": {
      "text/plain": [
       "['./Modelos/Ensamble/Ensamble_LR.sav']"
      ]
     },
     "execution_count": 16,
     "metadata": {},
     "output_type": "execute_result"
    }
   ],
   "source": [
    "joblib.dump(result, './Modelos/Ensamble/Ensamble_LR.sav')"
   ]
  },
  {
   "cell_type": "markdown",
   "metadata": {},
   "source": [
    "## Agrego los resultados obtenidos con Tf-idf"
   ]
  },
  {
   "cell_type": "code",
   "execution_count": 17,
   "metadata": {},
   "outputs": [],
   "source": [
    "Tfidf_NB = joblib.load('./Modelos/Tf-idf/Tf-idf_NB.sav')\n",
    "Tfidf_LR = joblib.load('./Modelos/Tf-idf/Tf-idf_LR.sav')\n",
    "Tfidf_RF = joblib.load('./Modelos/Tf-idf/Tf-idf_RF.sav')\n",
    "Tfidf_AB = joblib.load('./Modelos/Tf-idf/Tf-idf_AB.sav')\n",
    "Tfidf_XGB = joblib.load('./Modelos/Tf-idf/Tf-idf_XGB.sav')\n",
    "Tfidf_LGBM = joblib.load('./Modelos/Tf-idf/Tf-idf_LGBM.sav')"
   ]
  },
  {
   "cell_type": "code",
   "execution_count": 18,
   "metadata": {},
   "outputs": [],
   "source": [
    "X_train_probas = pd.DataFrame(X_train_probas)\n",
    "X_test_probas = pd.DataFrame(X_test_probas)"
   ]
  },
  {
   "cell_type": "code",
   "execution_count": 19,
   "metadata": {},
   "outputs": [],
   "source": [
    "X_train_probas['Tf-idf_NB'] = Tfidf_NB.predict_proba(X_train)[:,1]\n",
    "X_train_probas['Tf-idf_LR'] = Tfidf_LR.predict_proba(X_train)[:,1]\n",
    "X_train_probas['Tf-idf_RF'] = Tfidf_RF.predict_proba(X_train)[:,1]\n",
    "X_train_probas['Tf-idf_AB'] = Tfidf_AB.predict_proba(X_train)[:,1]\n",
    "X_train_probas['Tf-idf_XGB'] = Tfidf_XGB.predict_proba(X_train.astype('float32'))[:,1]\n",
    "X_train_probas['Tf-idf_LGBM'] = Tfidf_LGBM.predict_proba(X_train.astype('float32'))[:,1]"
   ]
  },
  {
   "cell_type": "code",
   "execution_count": 20,
   "metadata": {},
   "outputs": [],
   "source": [
    "X_test_probas['Tf-idf_NB'] = Tfidf_NB.predict_proba(X_test)[:,1]\n",
    "X_test_probas['Tf-idf_LR'] = Tfidf_LR.predict_proba(X_test)[:,1]\n",
    "X_test_probas['Tf-idf_RF'] = Tfidf_RF.predict_proba(X_test)[:,1]\n",
    "X_test_probas['Tf-idf_AB'] = Tfidf_AB.predict_proba(X_test)[:,1]\n",
    "X_test_probas['Tf-idf_XGB'] = Tfidf_XGB.predict_proba(X_test.astype('float32'))[:,1]\n",
    "X_test_probas['Tf-idf_LGBM'] = Tfidf_LGBM.predict_proba(X_test.astype('float32'))[:,1]"
   ]
  },
  {
   "cell_type": "code",
   "execution_count": 21,
   "metadata": {},
   "outputs": [
    {
     "name": "stderr",
     "output_type": "stream",
     "text": [
      "C:\\Users\\juan\\Anaconda3\\lib\\site-packages\\sklearn\\preprocessing\\data.py:617: DataConversionWarning: Data with input dtype float32, float64 were all converted to float64 by StandardScaler.\n",
      "  return self.partial_fit(X, y)\n",
      "C:\\Users\\juan\\Anaconda3\\lib\\site-packages\\sklearn\\base.py:462: DataConversionWarning: Data with input dtype float32, float64 were all converted to float64 by StandardScaler.\n",
      "  return self.fit(X, **fit_params).transform(X)\n",
      "C:\\Users\\juan\\Anaconda3\\lib\\site-packages\\ipykernel_launcher.py:3: DataConversionWarning: Data with input dtype float32, float64 were all converted to float64 by StandardScaler.\n",
      "  This is separate from the ipykernel package so we can avoid doing imports until\n"
     ]
    }
   ],
   "source": [
    "se = StandardScaler()\n",
    "X_train_probas = se.fit_transform(X_train_probas)\n",
    "X_test_probas = se.transform(X_test_probas)"
   ]
  },
  {
   "cell_type": "code",
   "execution_count": 22,
   "metadata": {},
   "outputs": [],
   "source": [
    "params = {'C': [0.001, 0.01, 0.1, 1, 10, 100, 1000] }"
   ]
  },
  {
   "cell_type": "code",
   "execution_count": 23,
   "metadata": {},
   "outputs": [
    {
     "name": "stdout",
     "output_type": "stream",
     "text": [
      "GridSearchCV(cv=3, error_score='raise-deprecating',\n",
      "       estimator=LogisticRegression(C=1.0, class_weight=None, dual=False, fit_intercept=True,\n",
      "          intercept_scaling=1, max_iter=100, multi_class='warn',\n",
      "          n_jobs=None, penalty='l2', random_state=None, solver='warn',\n",
      "          tol=0.0001, verbose=0, warm_start=False),\n",
      "       fit_params=None, iid='warn', n_jobs=-1,\n",
      "       param_grid={'C': [0.001, 0.01, 0.1, 1, 10, 100, 1000]},\n",
      "       pre_dispatch='2*n_jobs', refit=True, return_train_score='warn',\n",
      "       scoring='roc_auc', verbose=10)\n",
      "Fitting 3 folds for each of 7 candidates, totalling 21 fits\n"
     ]
    },
    {
     "name": "stderr",
     "output_type": "stream",
     "text": [
      "[Parallel(n_jobs=-1)]: Using backend LokyBackend with 8 concurrent workers.\n",
      "[Parallel(n_jobs=-1)]: Done   2 tasks      | elapsed:   20.8s\n",
      "[Parallel(n_jobs=-1)]: Done   9 out of  21 | elapsed:   54.3s remaining:  1.2min\n",
      "[Parallel(n_jobs=-1)]: Done  12 out of  21 | elapsed:  1.1min remaining:   48.2s\n",
      "[Parallel(n_jobs=-1)]: Done  15 out of  21 | elapsed:  1.3min remaining:   31.2s\n",
      "[Parallel(n_jobs=-1)]: Done  18 out of  21 | elapsed:  1.5min remaining:   15.3s\n",
      "[Parallel(n_jobs=-1)]: Done  21 out of  21 | elapsed:  1.6min remaining:    0.0s\n",
      "[Parallel(n_jobs=-1)]: Done  21 out of  21 | elapsed:  1.6min finished\n",
      "C:\\Users\\juan\\Anaconda3\\lib\\site-packages\\sklearn\\linear_model\\logistic.py:432: FutureWarning: Default solver will be changed to 'lbfgs' in 0.22. Specify a solver to silence this warning.\n",
      "  FutureWarning)\n"
     ]
    }
   ],
   "source": [
    "model = GridSearchCV(LogisticRegression(), params, scoring='roc_auc', verbose= 10, n_jobs=-1, cv=3)\n",
    "print (model)\n",
    "result = model.fit(X_train_probas, y_train)"
   ]
  },
  {
   "cell_type": "code",
   "execution_count": 24,
   "metadata": {},
   "outputs": [
    {
     "name": "stdout",
     "output_type": "stream",
     "text": [
      "Mejor Modelo:  LogisticRegression(C=10, class_weight=None, dual=False, fit_intercept=True,\n",
      "          intercept_scaling=1, max_iter=100, multi_class='warn',\n",
      "          n_jobs=None, penalty='l2', random_state=None, solver='warn',\n",
      "          tol=0.0001, verbose=0, warm_start=False)\n",
      "AUC:  0.8899904930411017\n",
      "Matriz de Confusión:\n",
      " [[599694   1816]\n",
      " [ 18288   1575]]\n",
      "Accuracy:  0.9676458423523391\n",
      "Recall:  0.0792931581332125\n",
      "Precision:  0.464464759657918 \n",
      "\n"
     ]
    }
   ],
   "source": [
    "print (\"Mejor Modelo: \",result.best_estimator_)\n",
    "print (\"AUC: \",result.best_score_)\n",
    "y_pred = result.predict(X_test_probas)\n",
    "print (\"Matriz de Confusión:\\n\",confusion_matrix(y_test, y_pred))\n",
    "print (\"Accuracy: \",accuracy_score(y_test, y_pred))\n",
    "print (\"Recall: \",recall_score(y_test, y_pred))\n",
    "print (\"Precision: \",precision_score(y_test, y_pred),\"\\n\")\n",
    "y_probs = result.predict_proba(X_test_probas)[:,1]"
   ]
  },
  {
   "cell_type": "code",
   "execution_count": 25,
   "metadata": {},
   "outputs": [
    {
     "data": {
      "image/png": "[encoded data removed]",
      "text/plain": [
       "<Figure size 432x288 with 1 Axes>"
      ]
     },
     "metadata": {},
     "output_type": "display_data"
    }
   ],
   "source": [
    "fpr_log,tpr_log,thr_log = roc_curve(y_test, y_probs)\n",
    "\n",
    "plt.axis([0, 1.01, 0, 1.01])\n",
    "plt.xlabel('1 - Specificty')\n",
    "plt.ylabel('TPR / Sensitivity')\n",
    "plt.title('ROC Curve')\n",
    "plt.plot(fpr_log,tpr_log)\n",
    "plt.plot(np.arange(0,1, step =0.01), np.arange(0,1, step =0.01))\n",
    "plt.legend(['Logit'])\n",
    "plt.show()"
   ]
  },
  {
   "cell_type": "code",
   "execution_count": 26,
   "metadata": {},
   "outputs": [
    {
     "name": "stdout",
     "output_type": "stream",
     "text": [
      "AUC-Logit= 0.840192038586125\n"
     ]
    }
   ],
   "source": [
    "print('AUC-Logit=', auc(fpr_log, tpr_log))"
   ]
  },
  {
   "cell_type": "code",
   "execution_count": 27,
   "metadata": {},
   "outputs": [
    {
     "data": {
      "text/plain": [
       "['./Modelos/Ensamble/Ensamble_+Tf-idf_LR.sav']"
      ]
     },
     "execution_count": 27,
     "metadata": {},
     "output_type": "execute_result"
    }
   ],
   "source": [
    "joblib.dump(result, './Modelos/Ensamble/Ensamble_+Tf-idf_LR.sav')"
   ]
  },
  {
   "cell_type": "markdown",
   "metadata": {},
   "source": [
    "## Empeoró. Descarto."
   ]
  }
 ],
 "metadata": {
  "kernelspec": {
   "display_name": "Python 3",
   "language": "python",
   "name": "python3"
  },
  "language_info": {
   "codemirror_mode": {
    "name": "ipython",
    "version": 3
   },
   "file_extension": ".py",
   "mimetype": "text/x-python",
   "name": "python",
   "nbconvert_exporter": "python",
   "pygments_lexer": "ipython3",
   "version": "3.6.5"
  }
 },
 "nbformat": 4,
 "nbformat_minor": 2
}
