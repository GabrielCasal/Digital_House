{
 "cells": [
  {
   "cell_type": "markdown",
   "metadata": {},
   "source": [
    "# Carga de BoW"
   ]
  },
  {
   "cell_type": "code",
   "execution_count": 14,
   "metadata": {},
   "outputs": [],
   "source": [
    "# Importo paquetes\n",
    "\n",
    "import numpy as np\n",
    "import pandas as pd\n",
    "import seaborn as sn\n",
    "import matplotlib.pyplot as plt\n",
    "%matplotlib inline\n",
    "\n",
    "from scipy import sparse\n",
    "\n",
    "from imblearn.over_sampling import SMOTE, RandomOverSampler\n",
    "from imblearn.under_sampling import RandomUnderSampler\n",
    "\n",
    "from sklearn.naive_bayes import BernoulliNB\n",
    "from sklearn.linear_model import LogisticRegression\n",
    "from sklearn.metrics import confusion_matrix, recall_score, accuracy_score, precision_score, roc_curve, roc_auc_score, auc\n",
    "\n",
    "from sklearn.model_selection import RandomizedSearchCV, GridSearchCV"
   ]
  },
  {
   "cell_type": "code",
   "execution_count": 11,
   "metadata": {},
   "outputs": [],
   "source": [
    "X_train = sparse.load_npz(\"./Data/X_train_BoW.npz\")\n",
    "X_test = sparse.load_npz(\"./Data/X_test_BoW.npz\")\n",
    "y_train = pd.read_csv(\"./Data/y_train.csv\", header=None)\n",
    "y_test = pd.read_csv(\"./Data/y_test.csv\", header=None)"
   ]
  },
  {
   "cell_type": "code",
   "execution_count": 12,
   "metadata": {},
   "outputs": [],
   "source": [
    "y_train = y_train[0]\n",
    "y_test = y_test[0]"
   ]
  },
  {
   "cell_type": "code",
   "execution_count": 13,
   "metadata": {},
   "outputs": [
    {
     "data": {
      "text/plain": [
       "0    97.481913\n",
       "1     2.518087\n",
       "Name: 0, dtype: float64"
      ]
     },
     "execution_count": 13,
     "metadata": {},
     "output_type": "execute_result"
    }
   ],
   "source": [
    "y_train.value_counts() / y_train.count() * 100"
   ]
  },
  {
   "cell_type": "code",
   "execution_count": 5,
   "metadata": {},
   "outputs": [],
   "source": [
    "sampling_strategys = [0.1, 0.25, 0.5, 0.75, 0.9]"
   ]
  },
  {
   "cell_type": "code",
   "execution_count": 6,
   "metadata": {},
   "outputs": [],
   "source": [
    "under_samples = [[],[],[],[],[]]\n",
    "i = 0\n",
    "for i in range(len(sampling_strategys)):\n",
    "    ros = RandomUnderSampler(random_state=12, sampling_strategy=sampling_strategys[i])\n",
    "    X_train_sample, y_train_sample = ros.fit_sample(X_train, y_train)\n",
    "    under_samples[i].append(X_train_sample)\n",
    "    under_samples[i].append(y_train_sample)"
   ]
  },
  {
   "cell_type": "code",
   "execution_count": 9,
   "metadata": {},
   "outputs": [
    {
     "name": "stdout",
     "output_type": "stream",
     "text": [
      "0    0.909091\n",
      "1    0.090909\n",
      "dtype: float64\n",
      "0    0.8\n",
      "1    0.2\n",
      "dtype: float64\n",
      "0    0.666667\n",
      "1    0.333333\n",
      "dtype: float64\n",
      "0    0.571427\n",
      "1    0.428573\n",
      "dtype: float64\n",
      "0    0.526311\n",
      "1    0.473689\n",
      "dtype: float64\n"
     ]
    }
   ],
   "source": [
    "for i in range(len(under_samples)):\n",
    "    print (pd.Series(under_samples[i][1]).value_counts() / pd.Series(under_samples[i][1]).count())"
   ]
  },
  {
   "cell_type": "markdown",
   "metadata": {},
   "source": [
    "# Modelado Bernoulli Naive Bayes"
   ]
  },
  {
   "cell_type": "code",
   "execution_count": 7,
   "metadata": {},
   "outputs": [],
   "source": [
    "modelo_NB = Grid(BernoulliNB(),param_distributions={},scoring='roc_auc', verbose= 10, n_jobs=-1, cv=3)"
   ]
  },
  {
   "cell_type": "code",
   "execution_count": 8,
   "metadata": {},
   "outputs": [
    {
     "name": "stderr",
     "output_type": "stream",
     "text": [
      "C:\\Users\\juan\\Anaconda3\\lib\\site-packages\\sklearn\\model_selection\\_search.py:271: UserWarning: The total space of parameters 1 is smaller than n_iter=10. Running 1 iterations. For exhaustive searches, use GridSearchCV.\n",
      "  % (grid_size, self.n_iter, grid_size), UserWarning)\n",
      "[Parallel(n_jobs=-1)]: Using backend LokyBackend with 8 concurrent workers.\n"
     ]
    },
    {
     "name": "stdout",
     "output_type": "stream",
     "text": [
      "Fitting 3 folds for each of 1 candidates, totalling 3 fits\n"
     ]
    },
    {
     "name": "stderr",
     "output_type": "stream",
     "text": [
      "[Parallel(n_jobs=-1)]: Done   3 out of   3 | elapsed:    2.1s remaining:    0.0s\n",
      "[Parallel(n_jobs=-1)]: Done   3 out of   3 | elapsed:    2.1s finished\n",
      "C:\\Users\\juan\\Anaconda3\\lib\\site-packages\\sklearn\\model_selection\\_search.py:271: UserWarning: The total space of parameters 1 is smaller than n_iter=10. Running 1 iterations. For exhaustive searches, use GridSearchCV.\n",
      "  % (grid_size, self.n_iter, grid_size), UserWarning)\n",
      "[Parallel(n_jobs=-1)]: Using backend LokyBackend with 8 concurrent workers.\n"
     ]
    },
    {
     "name": "stdout",
     "output_type": "stream",
     "text": [
      "Fitting 3 folds for each of 1 candidates, totalling 3 fits\n"
     ]
    },
    {
     "name": "stderr",
     "output_type": "stream",
     "text": [
      "[Parallel(n_jobs=-1)]: Done   3 out of   3 | elapsed:    1.0s remaining:    0.0s\n",
      "[Parallel(n_jobs=-1)]: Done   3 out of   3 | elapsed:    1.0s finished\n",
      "C:\\Users\\juan\\Anaconda3\\lib\\site-packages\\sklearn\\model_selection\\_search.py:271: UserWarning: The total space of parameters 1 is smaller than n_iter=10. Running 1 iterations. For exhaustive searches, use GridSearchCV.\n",
      "  % (grid_size, self.n_iter, grid_size), UserWarning)\n",
      "[Parallel(n_jobs=-1)]: Using backend LokyBackend with 8 concurrent workers.\n",
      "[Parallel(n_jobs=-1)]: Batch computation too fast (0.1250s.) Setting batch_size=2.\n"
     ]
    },
    {
     "name": "stdout",
     "output_type": "stream",
     "text": [
      "Fitting 3 folds for each of 1 candidates, totalling 3 fits\n"
     ]
    },
    {
     "name": "stderr",
     "output_type": "stream",
     "text": [
      "[Parallel(n_jobs=-1)]: Done   3 out of   3 | elapsed:    0.8s remaining:    0.0s\n",
      "[Parallel(n_jobs=-1)]: Done   3 out of   3 | elapsed:    0.8s finished\n",
      "C:\\Users\\juan\\Anaconda3\\lib\\site-packages\\sklearn\\model_selection\\_search.py:271: UserWarning: The total space of parameters 1 is smaller than n_iter=10. Running 1 iterations. For exhaustive searches, use GridSearchCV.\n",
      "  % (grid_size, self.n_iter, grid_size), UserWarning)\n",
      "[Parallel(n_jobs=-1)]: Using backend LokyBackend with 8 concurrent workers.\n",
      "[Parallel(n_jobs=-1)]: Batch computation too fast (0.1093s.) Setting batch_size=2.\n",
      "[Parallel(n_jobs=-1)]: Done   3 out of   3 | elapsed:    0.0s remaining:    0.0s\n",
      "[Parallel(n_jobs=-1)]: Done   3 out of   3 | elapsed:    0.0s finished\n"
     ]
    },
    {
     "name": "stdout",
     "output_type": "stream",
     "text": [
      "Fitting 3 folds for each of 1 candidates, totalling 3 fits\n"
     ]
    },
    {
     "name": "stderr",
     "output_type": "stream",
     "text": [
      "C:\\Users\\juan\\Anaconda3\\lib\\site-packages\\sklearn\\model_selection\\_search.py:271: UserWarning: The total space of parameters 1 is smaller than n_iter=10. Running 1 iterations. For exhaustive searches, use GridSearchCV.\n",
      "  % (grid_size, self.n_iter, grid_size), UserWarning)\n",
      "[Parallel(n_jobs=-1)]: Using backend LokyBackend with 8 concurrent workers.\n",
      "[Parallel(n_jobs=-1)]: Batch computation too fast (0.1093s.) Setting batch_size=2.\n",
      "[Parallel(n_jobs=-1)]: Done   3 out of   3 | elapsed:    0.0s remaining:    0.0s\n",
      "[Parallel(n_jobs=-1)]: Done   3 out of   3 | elapsed:    0.0s finished\n"
     ]
    },
    {
     "name": "stdout",
     "output_type": "stream",
     "text": [
      "Fitting 3 folds for each of 1 candidates, totalling 3 fits\n"
     ]
    }
   ],
   "source": [
    "auc_us = []\n",
    "for i in range(len(under_samples)):\n",
    "    modelo_NB.fit(under_samples[i][0], under_samples[i][1])\n",
    "    y_aux = modelo_NB.predict_proba(X_test)\n",
    "    y_probs =y_aux[:,1]\n",
    "    fpr_nb,tpr_nb,thr_nb = roc_curve(y_test, y_probs)\n",
    "    auc_us.append(auc(fpr_nb, tpr_nb))"
   ]
  },
  {
   "cell_type": "code",
   "execution_count": 9,
   "metadata": {},
   "outputs": [
    {
     "data": {
      "text/plain": [
       "[0.8390796428193598,\n",
       " 0.8400158316099,\n",
       " 0.8409217855699516,\n",
       " 0.8416304292422913,\n",
       " 0.8423708186099134]"
      ]
     },
     "execution_count": 9,
     "metadata": {},
     "output_type": "execute_result"
    }
   ],
   "source": [
    "auc_us"
   ]
  },
  {
   "cell_type": "markdown",
   "metadata": {},
   "source": [
    "Está mejorando (benchmark = 0.8389243670726327). Vamos a probar en Regresión Logística (el caballito de batalla)\n",
    "\n",
    "Nota: no hacemos oversampling porque tarda mucho SMOTE (Knn) y es menos efectivo que el random undersampling para problemas de alta dimensionalidad: https://bmcbioinformatics.biomedcentral.com/articles/10.1186/1471-2105-14-106"
   ]
  },
  {
   "cell_type": "markdown",
   "metadata": {},
   "source": [
    "# Modelado Logistic Regression"
   ]
  },
  {
   "cell_type": "code",
   "execution_count": 39,
   "metadata": {},
   "outputs": [],
   "source": [
    "sampling_strategys = [0.1, 0.25, 0.5, 0.75, 0.9]"
   ]
  },
  {
   "cell_type": "code",
   "execution_count": 41,
   "metadata": {},
   "outputs": [],
   "source": [
    "under_samples = [[],[],[],[],[]]\n",
    "i = 0\n",
    "for i in range(len(sampling_strategys)):\n",
    "    ros = RandomUnderSampler(random_state=12, sampling_strategy=sampling_strategys[i])\n",
    "    X_train_sample, y_train_sample = ros.fit_sample(X_train, y_train)\n",
    "    under_samples[i].append(X_train_sample)\n",
    "    under_samples[i].append(y_train_sample)"
   ]
  },
  {
   "cell_type": "code",
   "execution_count": 42,
   "metadata": {},
   "outputs": [
    {
     "name": "stdout",
     "output_type": "stream",
     "text": [
      "0    0.909091\n",
      "1    0.090909\n",
      "dtype: float64\n",
      "0    0.8\n",
      "1    0.2\n",
      "dtype: float64\n",
      "0    0.666667\n",
      "1    0.333333\n",
      "dtype: float64\n",
      "0    0.571427\n",
      "1    0.428573\n",
      "dtype: float64\n",
      "0    0.526311\n",
      "1    0.473689\n",
      "dtype: float64\n"
     ]
    }
   ],
   "source": [
    "for i in range(len(under_samples)):\n",
    "    print (pd.Series(under_samples[i][1]).value_counts() / pd.Series(under_samples[i][1]).count())"
   ]
  },
  {
   "cell_type": "code",
   "execution_count": 43,
   "metadata": {},
   "outputs": [],
   "source": [
    "modelo_LR = GridSearchCV(LogisticRegression(),{'C': [0.001, 0.01, 0.1, 1, 10, 100, 1000]},scoring='roc_auc', verbose= 10, n_jobs=-1, cv=3)"
   ]
  },
  {
   "cell_type": "code",
   "execution_count": 44,
   "metadata": {},
   "outputs": [
    {
     "name": "stdout",
     "output_type": "stream",
     "text": [
      "Fitting 3 folds for each of 7 candidates, totalling 21 fits\n"
     ]
    },
    {
     "name": "stderr",
     "output_type": "stream",
     "text": [
      "[Parallel(n_jobs=-1)]: Using backend LokyBackend with 8 concurrent workers.\n",
      "[Parallel(n_jobs=-1)]: Done   2 tasks      | elapsed:    2.6s\n",
      "[Parallel(n_jobs=-1)]: Done   9 out of  21 | elapsed:    9.5s remaining:   12.7s\n",
      "[Parallel(n_jobs=-1)]: Done  12 out of  21 | elapsed:   30.5s remaining:   22.8s\n",
      "[Parallel(n_jobs=-1)]: Done  15 out of  21 | elapsed:   40.7s remaining:   16.2s\n",
      "[Parallel(n_jobs=-1)]: Done  18 out of  21 | elapsed:   51.3s remaining:    8.5s\n",
      "[Parallel(n_jobs=-1)]: Done  21 out of  21 | elapsed:   55.5s remaining:    0.0s\n",
      "[Parallel(n_jobs=-1)]: Done  21 out of  21 | elapsed:   55.5s finished\n",
      "C:\\Users\\juan\\Anaconda3\\lib\\site-packages\\sklearn\\linear_model\\logistic.py:432: FutureWarning: Default solver will be changed to 'lbfgs' in 0.22. Specify a solver to silence this warning.\n",
      "  FutureWarning)\n"
     ]
    },
    {
     "name": "stdout",
     "output_type": "stream",
     "text": [
      "Mejor Modelo:  LogisticRegression(C=1, class_weight=None, dual=False, fit_intercept=True,\n",
      "          intercept_scaling=1, max_iter=100, multi_class='warn',\n",
      "          n_jobs=None, penalty='l2', random_state=None, solver='warn',\n",
      "          tol=0.0001, verbose=0, warm_start=False)\n",
      "AUC:  0.860215040758471\n",
      "Fitting 3 folds for each of 7 candidates, totalling 21 fits\n"
     ]
    },
    {
     "name": "stderr",
     "output_type": "stream",
     "text": [
      "[Parallel(n_jobs=-1)]: Using backend LokyBackend with 8 concurrent workers.\n",
      "[Parallel(n_jobs=-1)]: Done   2 tasks      | elapsed:    1.0s\n",
      "[Parallel(n_jobs=-1)]: Done   9 out of  21 | elapsed:    3.5s remaining:    4.7s\n",
      "[Parallel(n_jobs=-1)]: Done  12 out of  21 | elapsed:   11.2s remaining:    8.4s\n",
      "[Parallel(n_jobs=-1)]: Done  15 out of  21 | elapsed:   16.8s remaining:    6.7s\n",
      "[Parallel(n_jobs=-1)]: Done  18 out of  21 | elapsed:   20.4s remaining:    3.3s\n",
      "[Parallel(n_jobs=-1)]: Done  21 out of  21 | elapsed:   23.9s remaining:    0.0s\n",
      "[Parallel(n_jobs=-1)]: Done  21 out of  21 | elapsed:   23.9s finished\n",
      "C:\\Users\\juan\\Anaconda3\\lib\\site-packages\\sklearn\\linear_model\\logistic.py:432: FutureWarning: Default solver will be changed to 'lbfgs' in 0.22. Specify a solver to silence this warning.\n",
      "  FutureWarning)\n"
     ]
    },
    {
     "name": "stdout",
     "output_type": "stream",
     "text": [
      "Mejor Modelo:  LogisticRegression(C=1, class_weight=None, dual=False, fit_intercept=True,\n",
      "          intercept_scaling=1, max_iter=100, multi_class='warn',\n",
      "          n_jobs=None, penalty='l2', random_state=None, solver='warn',\n",
      "          tol=0.0001, verbose=0, warm_start=False)\n",
      "AUC:  0.8584408477294648\n",
      "Fitting 3 folds for each of 7 candidates, totalling 21 fits\n"
     ]
    },
    {
     "name": "stderr",
     "output_type": "stream",
     "text": [
      "[Parallel(n_jobs=-1)]: Using backend LokyBackend with 8 concurrent workers.\n",
      "[Parallel(n_jobs=-1)]: Done   2 tasks      | elapsed:    0.6s\n",
      "[Parallel(n_jobs=-1)]: Done   9 out of  21 | elapsed:    1.9s remaining:    2.6s\n",
      "[Parallel(n_jobs=-1)]: Done  12 out of  21 | elapsed:    5.2s remaining:    3.9s\n",
      "[Parallel(n_jobs=-1)]: Done  15 out of  21 | elapsed:   11.3s remaining:    4.4s\n",
      "[Parallel(n_jobs=-1)]: Done  18 out of  21 | elapsed:   12.4s remaining:    2.0s\n",
      "[Parallel(n_jobs=-1)]: Done  21 out of  21 | elapsed:   13.8s remaining:    0.0s\n",
      "[Parallel(n_jobs=-1)]: Done  21 out of  21 | elapsed:   13.8s finished\n",
      "C:\\Users\\juan\\Anaconda3\\lib\\site-packages\\sklearn\\linear_model\\logistic.py:432: FutureWarning: Default solver will be changed to 'lbfgs' in 0.22. Specify a solver to silence this warning.\n",
      "  FutureWarning)\n"
     ]
    },
    {
     "name": "stdout",
     "output_type": "stream",
     "text": [
      "Mejor Modelo:  LogisticRegression(C=1, class_weight=None, dual=False, fit_intercept=True,\n",
      "          intercept_scaling=1, max_iter=100, multi_class='warn',\n",
      "          n_jobs=None, penalty='l2', random_state=None, solver='warn',\n",
      "          tol=0.0001, verbose=0, warm_start=False)\n",
      "AUC:  0.8550905481109973\n",
      "Fitting 3 folds for each of 7 candidates, totalling 21 fits\n"
     ]
    },
    {
     "name": "stderr",
     "output_type": "stream",
     "text": [
      "[Parallel(n_jobs=-1)]: Using backend LokyBackend with 8 concurrent workers.\n",
      "[Parallel(n_jobs=-1)]: Done   2 tasks      | elapsed:    0.4s\n",
      "[Parallel(n_jobs=-1)]: Done   9 out of  21 | elapsed:    1.7s remaining:    2.3s\n",
      "[Parallel(n_jobs=-1)]: Done  12 out of  21 | elapsed:    3.9s remaining:    2.9s\n",
      "[Parallel(n_jobs=-1)]: Done  15 out of  21 | elapsed:    7.9s remaining:    3.1s\n",
      "[Parallel(n_jobs=-1)]: Done  18 out of  21 | elapsed:   11.1s remaining:    1.8s\n",
      "[Parallel(n_jobs=-1)]: Done  21 out of  21 | elapsed:   14.4s remaining:    0.0s\n",
      "[Parallel(n_jobs=-1)]: Done  21 out of  21 | elapsed:   14.4s finished\n",
      "C:\\Users\\juan\\Anaconda3\\lib\\site-packages\\sklearn\\linear_model\\logistic.py:432: FutureWarning: Default solver will be changed to 'lbfgs' in 0.22. Specify a solver to silence this warning.\n",
      "  FutureWarning)\n"
     ]
    },
    {
     "name": "stdout",
     "output_type": "stream",
     "text": [
      "Mejor Modelo:  LogisticRegression(C=1, class_weight=None, dual=False, fit_intercept=True,\n",
      "          intercept_scaling=1, max_iter=100, multi_class='warn',\n",
      "          n_jobs=None, penalty='l2', random_state=None, solver='warn',\n",
      "          tol=0.0001, verbose=0, warm_start=False)\n",
      "AUC:  0.8518424116238552\n",
      "Fitting 3 folds for each of 7 candidates, totalling 21 fits\n"
     ]
    },
    {
     "name": "stderr",
     "output_type": "stream",
     "text": [
      "[Parallel(n_jobs=-1)]: Using backend LokyBackend with 8 concurrent workers.\n",
      "[Parallel(n_jobs=-1)]: Done   2 tasks      | elapsed:    0.3s\n",
      "[Parallel(n_jobs=-1)]: Done   9 out of  21 | elapsed:    1.5s remaining:    2.0s\n",
      "[Parallel(n_jobs=-1)]: Done  12 out of  21 | elapsed:    3.2s remaining:    2.4s\n",
      "[Parallel(n_jobs=-1)]: Done  15 out of  21 | elapsed:    7.0s remaining:    2.7s\n",
      "[Parallel(n_jobs=-1)]: Done  18 out of  21 | elapsed:   10.3s remaining:    1.6s\n",
      "[Parallel(n_jobs=-1)]: Done  21 out of  21 | elapsed:   15.3s remaining:    0.0s\n",
      "[Parallel(n_jobs=-1)]: Done  21 out of  21 | elapsed:   15.3s finished\n",
      "C:\\Users\\juan\\Anaconda3\\lib\\site-packages\\sklearn\\linear_model\\logistic.py:432: FutureWarning: Default solver will be changed to 'lbfgs' in 0.22. Specify a solver to silence this warning.\n",
      "  FutureWarning)\n"
     ]
    },
    {
     "name": "stdout",
     "output_type": "stream",
     "text": [
      "Mejor Modelo:  LogisticRegression(C=1, class_weight=None, dual=False, fit_intercept=True,\n",
      "          intercept_scaling=1, max_iter=100, multi_class='warn',\n",
      "          n_jobs=None, penalty='l2', random_state=None, solver='warn',\n",
      "          tol=0.0001, verbose=0, warm_start=False)\n",
      "AUC:  0.8496556383987012\n"
     ]
    }
   ],
   "source": [
    "auc_us = []\n",
    "for i in range(len(under_samples)):\n",
    "    modelo_LR.fit(under_samples[i][0], under_samples[i][1])\n",
    "    print (\"Mejor Modelo: \",modelo_LR.best_estimator_)\n",
    "    print (\"AUC: \",modelo_LR.best_score_)\n",
    "    y_aux = modelo_LR.predict_proba(X_test)\n",
    "    y_probs =y_aux[:,1]\n",
    "    fpr_lr,tpr_lr,thr_lr = roc_curve(y_test, y_probs)\n",
    "    auc_us.append(auc(fpr_lr, tpr_lr))"
   ]
  },
  {
   "cell_type": "code",
   "execution_count": 46,
   "metadata": {},
   "outputs": [
    {
     "data": {
      "text/plain": [
       "[0.8482298052226152,\n",
       " 0.8469715165716131,\n",
       " 0.8444672094435568,\n",
       " 0.8422681556757085,\n",
       " 0.8414676549141089]"
      ]
     },
     "execution_count": 46,
     "metadata": {},
     "output_type": "execute_result"
    }
   ],
   "source": [
    "auc_us"
   ]
  },
  {
   "cell_type": "markdown",
   "metadata": {},
   "source": [
    "## La mejora parece ser con valores bajos de sample_strategy... vamos a probar más"
   ]
  },
  {
   "cell_type": "code",
   "execution_count": 60,
   "metadata": {},
   "outputs": [],
   "source": [
    "sampling_strategys = [0.026, 0.027, 0.028, 0.029, 0.03]"
   ]
  },
  {
   "cell_type": "code",
   "execution_count": 61,
   "metadata": {},
   "outputs": [],
   "source": [
    "under_samples = [[],[],[],[],[]]\n",
    "i = 0\n",
    "for i in range(len(sampling_strategys)):\n",
    "    ros = RandomUnderSampler(random_state=12, sampling_strategy=sampling_strategys[i])\n",
    "    X_train_sample, y_train_sample = ros.fit_sample(X_train, y_train)\n",
    "    under_samples[i].append(X_train_sample)\n",
    "    under_samples[i].append(y_train_sample)"
   ]
  },
  {
   "cell_type": "code",
   "execution_count": 62,
   "metadata": {},
   "outputs": [
    {
     "name": "stdout",
     "output_type": "stream",
     "text": [
      "0    0.974659\n",
      "1    0.025341\n",
      "dtype: float64\n",
      "0    0.97371\n",
      "1    0.02629\n",
      "dtype: float64\n",
      "0    0.972763\n",
      "1    0.027237\n",
      "dtype: float64\n",
      "0    0.971817\n",
      "1    0.028183\n",
      "dtype: float64\n",
      "0    0.970874\n",
      "1    0.029126\n",
      "dtype: float64\n"
     ]
    }
   ],
   "source": [
    "for i in range(len(under_samples)):\n",
    "    print (pd.Series(under_samples[i][1]).value_counts() / pd.Series(under_samples[i][1]).count())"
   ]
  },
  {
   "cell_type": "code",
   "execution_count": 63,
   "metadata": {},
   "outputs": [],
   "source": [
    "modelo_LR = GridSearchCV(LogisticRegression(),{'C': [0.001, 0.01, 0.1, 1, 10, 100, 1000]},scoring='roc_auc', verbose= 10, n_jobs=-1, cv=3)"
   ]
  },
  {
   "cell_type": "code",
   "execution_count": 64,
   "metadata": {},
   "outputs": [
    {
     "name": "stdout",
     "output_type": "stream",
     "text": [
      "Fitting 3 folds for each of 7 candidates, totalling 21 fits\n"
     ]
    },
    {
     "name": "stderr",
     "output_type": "stream",
     "text": [
      "[Parallel(n_jobs=-1)]: Using backend LokyBackend with 8 concurrent workers.\n",
      "[Parallel(n_jobs=-1)]: Done   2 tasks      | elapsed:   16.5s\n",
      "[Parallel(n_jobs=-1)]: Done   9 out of  21 | elapsed:   49.2s remaining:  1.1min\n",
      "[Parallel(n_jobs=-1)]: Done  12 out of  21 | elapsed:  1.9min remaining:  1.4min\n",
      "[Parallel(n_jobs=-1)]: Done  15 out of  21 | elapsed:  2.3min remaining:   55.0s\n",
      "[Parallel(n_jobs=-1)]: Done  18 out of  21 | elapsed:  2.7min remaining:   27.4s\n",
      "[Parallel(n_jobs=-1)]: Done  21 out of  21 | elapsed:  2.9min remaining:    0.0s\n",
      "[Parallel(n_jobs=-1)]: Done  21 out of  21 | elapsed:  2.9min finished\n",
      "C:\\Users\\juan\\Anaconda3\\lib\\site-packages\\sklearn\\linear_model\\logistic.py:432: FutureWarning: Default solver will be changed to 'lbfgs' in 0.22. Specify a solver to silence this warning.\n",
      "  FutureWarning)\n",
      "C:\\Users\\juan\\Anaconda3\\lib\\site-packages\\sklearn\\svm\\base.py:922: ConvergenceWarning: Liblinear failed to converge, increase the number of iterations.\n",
      "  \"the number of iterations.\", ConvergenceWarning)\n"
     ]
    },
    {
     "name": "stdout",
     "output_type": "stream",
     "text": [
      "Mejor Modelo:  LogisticRegression(C=10, class_weight=None, dual=False, fit_intercept=True,\n",
      "          intercept_scaling=1, max_iter=100, multi_class='warn',\n",
      "          n_jobs=None, penalty='l2', random_state=None, solver='warn',\n",
      "          tol=0.0001, verbose=0, warm_start=False)\n",
      "AUC:  0.860899812258534\n",
      "Fitting 3 folds for each of 7 candidates, totalling 21 fits\n"
     ]
    },
    {
     "name": "stderr",
     "output_type": "stream",
     "text": [
      "[Parallel(n_jobs=-1)]: Using backend LokyBackend with 8 concurrent workers.\n",
      "[Parallel(n_jobs=-1)]: Done   2 tasks      | elapsed:   12.2s\n",
      "[Parallel(n_jobs=-1)]: Done   9 out of  21 | elapsed:   45.5s remaining:  1.0min\n",
      "[Parallel(n_jobs=-1)]: Done  12 out of  21 | elapsed:  2.0min remaining:  1.5min\n",
      "[Parallel(n_jobs=-1)]: Done  15 out of  21 | elapsed:  2.3min remaining:   55.9s\n",
      "[Parallel(n_jobs=-1)]: Done  18 out of  21 | elapsed:  2.7min remaining:   27.1s\n",
      "[Parallel(n_jobs=-1)]: Done  21 out of  21 | elapsed:  3.0min remaining:    0.0s\n",
      "[Parallel(n_jobs=-1)]: Done  21 out of  21 | elapsed:  3.0min finished\n",
      "C:\\Users\\juan\\Anaconda3\\lib\\site-packages\\sklearn\\linear_model\\logistic.py:432: FutureWarning: Default solver will be changed to 'lbfgs' in 0.22. Specify a solver to silence this warning.\n",
      "  FutureWarning)\n",
      "C:\\Users\\juan\\Anaconda3\\lib\\site-packages\\sklearn\\svm\\base.py:922: ConvergenceWarning: Liblinear failed to converge, increase the number of iterations.\n",
      "  \"the number of iterations.\", ConvergenceWarning)\n"
     ]
    },
    {
     "name": "stdout",
     "output_type": "stream",
     "text": [
      "Mejor Modelo:  LogisticRegression(C=10, class_weight=None, dual=False, fit_intercept=True,\n",
      "          intercept_scaling=1, max_iter=100, multi_class='warn',\n",
      "          n_jobs=None, penalty='l2', random_state=None, solver='warn',\n",
      "          tol=0.0001, verbose=0, warm_start=False)\n",
      "AUC:  0.8607186627516812\n",
      "Fitting 3 folds for each of 7 candidates, totalling 21 fits\n"
     ]
    },
    {
     "name": "stderr",
     "output_type": "stream",
     "text": [
      "[Parallel(n_jobs=-1)]: Using backend LokyBackend with 8 concurrent workers.\n",
      "[Parallel(n_jobs=-1)]: Done   2 tasks      | elapsed:   11.7s\n",
      "[Parallel(n_jobs=-1)]: Done   9 out of  21 | elapsed:   46.7s remaining:  1.0min\n",
      "[Parallel(n_jobs=-1)]: Done  12 out of  21 | elapsed:  1.8min remaining:  1.3min\n",
      "[Parallel(n_jobs=-1)]: Done  15 out of  21 | elapsed:  2.1min remaining:   50.0s\n",
      "[Parallel(n_jobs=-1)]: Done  18 out of  21 | elapsed:  2.6min remaining:   25.6s\n",
      "[Parallel(n_jobs=-1)]: Done  21 out of  21 | elapsed:  2.7min remaining:    0.0s\n",
      "[Parallel(n_jobs=-1)]: Done  21 out of  21 | elapsed:  2.7min finished\n",
      "C:\\Users\\juan\\Anaconda3\\lib\\site-packages\\sklearn\\linear_model\\logistic.py:432: FutureWarning: Default solver will be changed to 'lbfgs' in 0.22. Specify a solver to silence this warning.\n",
      "  FutureWarning)\n",
      "C:\\Users\\juan\\Anaconda3\\lib\\site-packages\\sklearn\\svm\\base.py:922: ConvergenceWarning: Liblinear failed to converge, increase the number of iterations.\n",
      "  \"the number of iterations.\", ConvergenceWarning)\n"
     ]
    },
    {
     "name": "stdout",
     "output_type": "stream",
     "text": [
      "Mejor Modelo:  LogisticRegression(C=10, class_weight=None, dual=False, fit_intercept=True,\n",
      "          intercept_scaling=1, max_iter=100, multi_class='warn',\n",
      "          n_jobs=None, penalty='l2', random_state=None, solver='warn',\n",
      "          tol=0.0001, verbose=0, warm_start=False)\n",
      "AUC:  0.8609894388771515\n",
      "Fitting 3 folds for each of 7 candidates, totalling 21 fits\n"
     ]
    },
    {
     "name": "stderr",
     "output_type": "stream",
     "text": [
      "[Parallel(n_jobs=-1)]: Using backend LokyBackend with 8 concurrent workers.\n",
      "[Parallel(n_jobs=-1)]: Done   2 tasks      | elapsed:   11.5s\n",
      "[Parallel(n_jobs=-1)]: Done   9 out of  21 | elapsed:   39.8s remaining:   53.1s\n",
      "[Parallel(n_jobs=-1)]: Done  12 out of  21 | elapsed:  1.5min remaining:  1.2min\n",
      "[Parallel(n_jobs=-1)]: Done  15 out of  21 | elapsed:  1.9min remaining:   45.7s\n",
      "[Parallel(n_jobs=-1)]: Done  18 out of  21 | elapsed:  2.3min remaining:   23.2s\n",
      "[Parallel(n_jobs=-1)]: Done  21 out of  21 | elapsed:  2.7min remaining:    0.0s\n",
      "[Parallel(n_jobs=-1)]: Done  21 out of  21 | elapsed:  2.7min finished\n",
      "C:\\Users\\juan\\Anaconda3\\lib\\site-packages\\sklearn\\linear_model\\logistic.py:432: FutureWarning: Default solver will be changed to 'lbfgs' in 0.22. Specify a solver to silence this warning.\n",
      "  FutureWarning)\n",
      "C:\\Users\\juan\\Anaconda3\\lib\\site-packages\\sklearn\\svm\\base.py:922: ConvergenceWarning: Liblinear failed to converge, increase the number of iterations.\n",
      "  \"the number of iterations.\", ConvergenceWarning)\n"
     ]
    },
    {
     "name": "stdout",
     "output_type": "stream",
     "text": [
      "Mejor Modelo:  LogisticRegression(C=100, class_weight=None, dual=False, fit_intercept=True,\n",
      "          intercept_scaling=1, max_iter=100, multi_class='warn',\n",
      "          n_jobs=None, penalty='l2', random_state=None, solver='warn',\n",
      "          tol=0.0001, verbose=0, warm_start=False)\n",
      "AUC:  0.8606565801288717\n",
      "Fitting 3 folds for each of 7 candidates, totalling 21 fits\n"
     ]
    },
    {
     "name": "stderr",
     "output_type": "stream",
     "text": [
      "[Parallel(n_jobs=-1)]: Using backend LokyBackend with 8 concurrent workers.\n",
      "[Parallel(n_jobs=-1)]: Done   2 tasks      | elapsed:   10.3s\n",
      "[Parallel(n_jobs=-1)]: Done   9 out of  21 | elapsed:   31.5s remaining:   42.0s\n",
      "[Parallel(n_jobs=-1)]: Done  12 out of  21 | elapsed:  1.6min remaining:  1.2min\n",
      "[Parallel(n_jobs=-1)]: Done  15 out of  21 | elapsed:  1.7min remaining:   41.9s\n",
      "[Parallel(n_jobs=-1)]: Done  18 out of  21 | elapsed:  2.3min remaining:   22.7s\n",
      "[Parallel(n_jobs=-1)]: Done  21 out of  21 | elapsed:  2.4min remaining:    0.0s\n",
      "[Parallel(n_jobs=-1)]: Done  21 out of  21 | elapsed:  2.4min finished\n",
      "C:\\Users\\juan\\Anaconda3\\lib\\site-packages\\sklearn\\linear_model\\logistic.py:432: FutureWarning: Default solver will be changed to 'lbfgs' in 0.22. Specify a solver to silence this warning.\n",
      "  FutureWarning)\n"
     ]
    },
    {
     "name": "stdout",
     "output_type": "stream",
     "text": [
      "Mejor Modelo:  LogisticRegression(C=1, class_weight=None, dual=False, fit_intercept=True,\n",
      "          intercept_scaling=1, max_iter=100, multi_class='warn',\n",
      "          n_jobs=None, penalty='l2', random_state=None, solver='warn',\n",
      "          tol=0.0001, verbose=0, warm_start=False)\n",
      "AUC:  0.8609055421117893\n"
     ]
    }
   ],
   "source": [
    "auc_us = []\n",
    "for i in range(len(under_samples)):\n",
    "    modelo_LR.fit(under_samples[i][0], under_samples[i][1])\n",
    "    print (\"Mejor Modelo: \",modelo_LR.best_estimator_)\n",
    "    print (\"AUC: \",modelo_LR.best_score_)\n",
    "    y_aux = modelo_LR.predict_proba(X_test)\n",
    "    y_probs =y_aux[:,1]\n",
    "    fpr_lr,tpr_lr,thr_lr = roc_curve(y_test, y_probs)\n",
    "    auc_us.append(auc(fpr_lr, tpr_lr))"
   ]
  },
  {
   "cell_type": "code",
   "execution_count": 65,
   "metadata": {},
   "outputs": [
    {
     "data": {
      "text/plain": [
       "[0.8482368844379213,\n",
       " 0.8483171225195126,\n",
       " 0.8483453263054614,\n",
       " 0.8482289589575442,\n",
       " 0.8484152839947942]"
      ]
     },
     "execution_count": 65,
     "metadata": {},
     "output_type": "execute_result"
    }
   ],
   "source": [
    "auc_us"
   ]
  },
  {
   "cell_type": "markdown",
   "metadata": {},
   "source": [
    "## La mejora (si es que hay y no es por azar) parece ser muy marginal... No parece que valga la pena correr los modelos más complejos undersampleando"
   ]
  }
 ],
 "metadata": {
  "kernelspec": {
   "display_name": "Python 3",
   "language": "python",
   "name": "python3"
  },
  "language_info": {
   "codemirror_mode": {
    "name": "ipython",
    "version": 3
   },
   "file_extension": ".py",
   "mimetype": "text/x-python",
   "name": "python",
   "nbconvert_exporter": "python",
   "pygments_lexer": "ipython3",
   "version": "3.6.5"
  }
 },
 "nbformat": 4,
 "nbformat_minor": 2
}
